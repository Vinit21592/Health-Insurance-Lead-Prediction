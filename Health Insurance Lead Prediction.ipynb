{
 "cells": [
  {
   "cell_type": "code",
   "execution_count": 1,
   "metadata": {},
   "outputs": [],
   "source": [
    "import pandas as pd\n",
    "import numpy as np\n",
    "import matplotlib.pyplot as plt\n",
    "import seaborn as sns\n",
    "import os\n",
    "import warnings"
   ]
  },
  {
   "cell_type": "code",
   "execution_count": 2,
   "metadata": {},
   "outputs": [],
   "source": [
    "warnings.filterwarnings(\"ignore\")\n",
    "%matplotlib inline"
   ]
  },
  {
   "cell_type": "code",
   "execution_count": 3,
   "metadata": {},
   "outputs": [],
   "source": [
    "Data_train = pd.read_csv(\"C:/Users/TERMINATOR/Desktop/AV/train_Df64byy.csv\")\n",
    "Data_test = pd.read_csv(\"C:/Users/TERMINATOR/Desktop/AV/test_YCcRUnU.csv\")"
   ]
  },
  {
   "cell_type": "code",
   "execution_count": 4,
   "metadata": {},
   "outputs": [
    {
     "data": {
      "text/plain": [
       "(50882, 14)"
      ]
     },
     "execution_count": 4,
     "metadata": {},
     "output_type": "execute_result"
    }
   ],
   "source": [
    "Data_train.shape"
   ]
  },
  {
   "cell_type": "code",
   "execution_count": 5,
   "metadata": {},
   "outputs": [
    {
     "data": {
      "text/plain": [
       "(21805, 13)"
      ]
     },
     "execution_count": 5,
     "metadata": {},
     "output_type": "execute_result"
    }
   ],
   "source": [
    "Data_test.shape"
   ]
  },
  {
   "cell_type": "code",
   "execution_count": 6,
   "metadata": {},
   "outputs": [
    {
     "data": {
      "text/html": [
       "<div>\n",
       "<style scoped>\n",
       "    .dataframe tbody tr th:only-of-type {\n",
       "        vertical-align: middle;\n",
       "    }\n",
       "\n",
       "    .dataframe tbody tr th {\n",
       "        vertical-align: top;\n",
       "    }\n",
       "\n",
       "    .dataframe thead th {\n",
       "        text-align: right;\n",
       "    }\n",
       "</style>\n",
       "<table border=\"1\" class=\"dataframe\">\n",
       "  <thead>\n",
       "    <tr style=\"text-align: right;\">\n",
       "      <th></th>\n",
       "      <th>ID</th>\n",
       "      <th>City_Code</th>\n",
       "      <th>Region_Code</th>\n",
       "      <th>Accomodation_Type</th>\n",
       "      <th>Reco_Insurance_Type</th>\n",
       "      <th>Upper_Age</th>\n",
       "      <th>Lower_Age</th>\n",
       "      <th>Is_Spouse</th>\n",
       "      <th>Health Indicator</th>\n",
       "      <th>Holding_Policy_Duration</th>\n",
       "      <th>Holding_Policy_Type</th>\n",
       "      <th>Reco_Policy_Cat</th>\n",
       "      <th>Reco_Policy_Premium</th>\n",
       "      <th>Response</th>\n",
       "    </tr>\n",
       "  </thead>\n",
       "  <tbody>\n",
       "    <tr>\n",
       "      <td>0</td>\n",
       "      <td>1</td>\n",
       "      <td>C3</td>\n",
       "      <td>3213</td>\n",
       "      <td>Rented</td>\n",
       "      <td>Individual</td>\n",
       "      <td>36</td>\n",
       "      <td>36</td>\n",
       "      <td>No</td>\n",
       "      <td>X1</td>\n",
       "      <td>14+</td>\n",
       "      <td>3.0</td>\n",
       "      <td>22</td>\n",
       "      <td>11628.0</td>\n",
       "      <td>0</td>\n",
       "    </tr>\n",
       "    <tr>\n",
       "      <td>1</td>\n",
       "      <td>2</td>\n",
       "      <td>C5</td>\n",
       "      <td>1117</td>\n",
       "      <td>Owned</td>\n",
       "      <td>Joint</td>\n",
       "      <td>75</td>\n",
       "      <td>22</td>\n",
       "      <td>No</td>\n",
       "      <td>X2</td>\n",
       "      <td>NaN</td>\n",
       "      <td>NaN</td>\n",
       "      <td>22</td>\n",
       "      <td>30510.0</td>\n",
       "      <td>0</td>\n",
       "    </tr>\n",
       "    <tr>\n",
       "      <td>2</td>\n",
       "      <td>3</td>\n",
       "      <td>C5</td>\n",
       "      <td>3732</td>\n",
       "      <td>Owned</td>\n",
       "      <td>Individual</td>\n",
       "      <td>32</td>\n",
       "      <td>32</td>\n",
       "      <td>No</td>\n",
       "      <td>NaN</td>\n",
       "      <td>1.0</td>\n",
       "      <td>1.0</td>\n",
       "      <td>19</td>\n",
       "      <td>7450.0</td>\n",
       "      <td>1</td>\n",
       "    </tr>\n",
       "    <tr>\n",
       "      <td>3</td>\n",
       "      <td>4</td>\n",
       "      <td>C24</td>\n",
       "      <td>4378</td>\n",
       "      <td>Owned</td>\n",
       "      <td>Joint</td>\n",
       "      <td>52</td>\n",
       "      <td>48</td>\n",
       "      <td>No</td>\n",
       "      <td>X1</td>\n",
       "      <td>14+</td>\n",
       "      <td>3.0</td>\n",
       "      <td>19</td>\n",
       "      <td>17780.0</td>\n",
       "      <td>0</td>\n",
       "    </tr>\n",
       "    <tr>\n",
       "      <td>4</td>\n",
       "      <td>5</td>\n",
       "      <td>C8</td>\n",
       "      <td>2190</td>\n",
       "      <td>Rented</td>\n",
       "      <td>Individual</td>\n",
       "      <td>44</td>\n",
       "      <td>44</td>\n",
       "      <td>No</td>\n",
       "      <td>X2</td>\n",
       "      <td>3.0</td>\n",
       "      <td>1.0</td>\n",
       "      <td>16</td>\n",
       "      <td>10404.0</td>\n",
       "      <td>0</td>\n",
       "    </tr>\n",
       "  </tbody>\n",
       "</table>\n",
       "</div>"
      ],
      "text/plain": [
       "   ID City_Code  Region_Code Accomodation_Type Reco_Insurance_Type  Upper_Age  \\\n",
       "0   1        C3         3213            Rented          Individual         36   \n",
       "1   2        C5         1117             Owned               Joint         75   \n",
       "2   3        C5         3732             Owned          Individual         32   \n",
       "3   4       C24         4378             Owned               Joint         52   \n",
       "4   5        C8         2190            Rented          Individual         44   \n",
       "\n",
       "   Lower_Age Is_Spouse Health Indicator Holding_Policy_Duration  \\\n",
       "0         36        No               X1                     14+   \n",
       "1         22        No               X2                     NaN   \n",
       "2         32        No              NaN                     1.0   \n",
       "3         48        No               X1                     14+   \n",
       "4         44        No               X2                     3.0   \n",
       "\n",
       "   Holding_Policy_Type  Reco_Policy_Cat  Reco_Policy_Premium  Response  \n",
       "0                  3.0               22              11628.0         0  \n",
       "1                  NaN               22              30510.0         0  \n",
       "2                  1.0               19               7450.0         1  \n",
       "3                  3.0               19              17780.0         0  \n",
       "4                  1.0               16              10404.0         0  "
      ]
     },
     "execution_count": 6,
     "metadata": {},
     "output_type": "execute_result"
    }
   ],
   "source": [
    "Data_train.head()"
   ]
  },
  {
   "cell_type": "code",
   "execution_count": 7,
   "metadata": {},
   "outputs": [
    {
     "data": {
      "text/html": [
       "<div>\n",
       "<style scoped>\n",
       "    .dataframe tbody tr th:only-of-type {\n",
       "        vertical-align: middle;\n",
       "    }\n",
       "\n",
       "    .dataframe tbody tr th {\n",
       "        vertical-align: top;\n",
       "    }\n",
       "\n",
       "    .dataframe thead th {\n",
       "        text-align: right;\n",
       "    }\n",
       "</style>\n",
       "<table border=\"1\" class=\"dataframe\">\n",
       "  <thead>\n",
       "    <tr style=\"text-align: right;\">\n",
       "      <th></th>\n",
       "      <th>ID</th>\n",
       "      <th>City_Code</th>\n",
       "      <th>Region_Code</th>\n",
       "      <th>Accomodation_Type</th>\n",
       "      <th>Reco_Insurance_Type</th>\n",
       "      <th>Upper_Age</th>\n",
       "      <th>Lower_Age</th>\n",
       "      <th>Is_Spouse</th>\n",
       "      <th>Health Indicator</th>\n",
       "      <th>Holding_Policy_Duration</th>\n",
       "      <th>Holding_Policy_Type</th>\n",
       "      <th>Reco_Policy_Cat</th>\n",
       "      <th>Reco_Policy_Premium</th>\n",
       "    </tr>\n",
       "  </thead>\n",
       "  <tbody>\n",
       "    <tr>\n",
       "      <td>0</td>\n",
       "      <td>50883</td>\n",
       "      <td>C1</td>\n",
       "      <td>156</td>\n",
       "      <td>Owned</td>\n",
       "      <td>Individual</td>\n",
       "      <td>30</td>\n",
       "      <td>30</td>\n",
       "      <td>No</td>\n",
       "      <td>NaN</td>\n",
       "      <td>6.0</td>\n",
       "      <td>3.0</td>\n",
       "      <td>5</td>\n",
       "      <td>11934.0</td>\n",
       "    </tr>\n",
       "    <tr>\n",
       "      <td>1</td>\n",
       "      <td>50884</td>\n",
       "      <td>C4</td>\n",
       "      <td>7</td>\n",
       "      <td>Owned</td>\n",
       "      <td>Joint</td>\n",
       "      <td>69</td>\n",
       "      <td>68</td>\n",
       "      <td>Yes</td>\n",
       "      <td>X1</td>\n",
       "      <td>3.0</td>\n",
       "      <td>3.0</td>\n",
       "      <td>18</td>\n",
       "      <td>32204.8</td>\n",
       "    </tr>\n",
       "    <tr>\n",
       "      <td>2</td>\n",
       "      <td>50885</td>\n",
       "      <td>C1</td>\n",
       "      <td>564</td>\n",
       "      <td>Rented</td>\n",
       "      <td>Individual</td>\n",
       "      <td>28</td>\n",
       "      <td>28</td>\n",
       "      <td>No</td>\n",
       "      <td>X3</td>\n",
       "      <td>2.0</td>\n",
       "      <td>4.0</td>\n",
       "      <td>17</td>\n",
       "      <td>9240.0</td>\n",
       "    </tr>\n",
       "    <tr>\n",
       "      <td>3</td>\n",
       "      <td>50886</td>\n",
       "      <td>C3</td>\n",
       "      <td>1177</td>\n",
       "      <td>Rented</td>\n",
       "      <td>Individual</td>\n",
       "      <td>23</td>\n",
       "      <td>23</td>\n",
       "      <td>No</td>\n",
       "      <td>X3</td>\n",
       "      <td>3.0</td>\n",
       "      <td>3.0</td>\n",
       "      <td>18</td>\n",
       "      <td>9086.0</td>\n",
       "    </tr>\n",
       "    <tr>\n",
       "      <td>4</td>\n",
       "      <td>50887</td>\n",
       "      <td>C1</td>\n",
       "      <td>951</td>\n",
       "      <td>Owned</td>\n",
       "      <td>Individual</td>\n",
       "      <td>75</td>\n",
       "      <td>75</td>\n",
       "      <td>No</td>\n",
       "      <td>X3</td>\n",
       "      <td>NaN</td>\n",
       "      <td>NaN</td>\n",
       "      <td>5</td>\n",
       "      <td>22534.0</td>\n",
       "    </tr>\n",
       "  </tbody>\n",
       "</table>\n",
       "</div>"
      ],
      "text/plain": [
       "      ID City_Code  Region_Code Accomodation_Type Reco_Insurance_Type  \\\n",
       "0  50883        C1          156             Owned          Individual   \n",
       "1  50884        C4            7             Owned               Joint   \n",
       "2  50885        C1          564            Rented          Individual   \n",
       "3  50886        C3         1177            Rented          Individual   \n",
       "4  50887        C1          951             Owned          Individual   \n",
       "\n",
       "   Upper_Age  Lower_Age Is_Spouse Health Indicator Holding_Policy_Duration  \\\n",
       "0         30         30        No              NaN                     6.0   \n",
       "1         69         68       Yes               X1                     3.0   \n",
       "2         28         28        No               X3                     2.0   \n",
       "3         23         23        No               X3                     3.0   \n",
       "4         75         75        No               X3                     NaN   \n",
       "\n",
       "   Holding_Policy_Type  Reco_Policy_Cat  Reco_Policy_Premium  \n",
       "0                  3.0                5              11934.0  \n",
       "1                  3.0               18              32204.8  \n",
       "2                  4.0               17               9240.0  \n",
       "3                  3.0               18               9086.0  \n",
       "4                  NaN                5              22534.0  "
      ]
     },
     "execution_count": 7,
     "metadata": {},
     "output_type": "execute_result"
    }
   ],
   "source": [
    "Data_test.head()"
   ]
  },
  {
   "cell_type": "code",
   "execution_count": 8,
   "metadata": {},
   "outputs": [
    {
     "data": {
      "text/html": [
       "<div>\n",
       "<style scoped>\n",
       "    .dataframe tbody tr th:only-of-type {\n",
       "        vertical-align: middle;\n",
       "    }\n",
       "\n",
       "    .dataframe tbody tr th {\n",
       "        vertical-align: top;\n",
       "    }\n",
       "\n",
       "    .dataframe thead th {\n",
       "        text-align: right;\n",
       "    }\n",
       "</style>\n",
       "<table border=\"1\" class=\"dataframe\">\n",
       "  <thead>\n",
       "    <tr style=\"text-align: right;\">\n",
       "      <th></th>\n",
       "      <th>ID</th>\n",
       "      <th>Region_Code</th>\n",
       "      <th>Upper_Age</th>\n",
       "      <th>Lower_Age</th>\n",
       "      <th>Holding_Policy_Type</th>\n",
       "      <th>Reco_Policy_Cat</th>\n",
       "      <th>Reco_Policy_Premium</th>\n",
       "      <th>Response</th>\n",
       "    </tr>\n",
       "  </thead>\n",
       "  <tbody>\n",
       "    <tr>\n",
       "      <td>count</td>\n",
       "      <td>50882.000000</td>\n",
       "      <td>50882.000000</td>\n",
       "      <td>50882.000000</td>\n",
       "      <td>50882.000000</td>\n",
       "      <td>30631.000000</td>\n",
       "      <td>50882.000000</td>\n",
       "      <td>50882.000000</td>\n",
       "      <td>50882.000000</td>\n",
       "    </tr>\n",
       "    <tr>\n",
       "      <td>mean</td>\n",
       "      <td>25441.500000</td>\n",
       "      <td>1732.788707</td>\n",
       "      <td>44.856275</td>\n",
       "      <td>42.738866</td>\n",
       "      <td>2.439228</td>\n",
       "      <td>15.115188</td>\n",
       "      <td>14183.950069</td>\n",
       "      <td>0.239947</td>\n",
       "    </tr>\n",
       "    <tr>\n",
       "      <td>std</td>\n",
       "      <td>14688.512535</td>\n",
       "      <td>1424.081652</td>\n",
       "      <td>17.310271</td>\n",
       "      <td>17.319375</td>\n",
       "      <td>1.025923</td>\n",
       "      <td>6.340663</td>\n",
       "      <td>6590.074873</td>\n",
       "      <td>0.427055</td>\n",
       "    </tr>\n",
       "    <tr>\n",
       "      <td>min</td>\n",
       "      <td>1.000000</td>\n",
       "      <td>1.000000</td>\n",
       "      <td>18.000000</td>\n",
       "      <td>16.000000</td>\n",
       "      <td>1.000000</td>\n",
       "      <td>1.000000</td>\n",
       "      <td>2280.000000</td>\n",
       "      <td>0.000000</td>\n",
       "    </tr>\n",
       "    <tr>\n",
       "      <td>25%</td>\n",
       "      <td>12721.250000</td>\n",
       "      <td>523.000000</td>\n",
       "      <td>28.000000</td>\n",
       "      <td>27.000000</td>\n",
       "      <td>1.000000</td>\n",
       "      <td>12.000000</td>\n",
       "      <td>9248.000000</td>\n",
       "      <td>0.000000</td>\n",
       "    </tr>\n",
       "    <tr>\n",
       "      <td>50%</td>\n",
       "      <td>25441.500000</td>\n",
       "      <td>1391.000000</td>\n",
       "      <td>44.000000</td>\n",
       "      <td>40.000000</td>\n",
       "      <td>3.000000</td>\n",
       "      <td>17.000000</td>\n",
       "      <td>13178.000000</td>\n",
       "      <td>0.000000</td>\n",
       "    </tr>\n",
       "    <tr>\n",
       "      <td>75%</td>\n",
       "      <td>38161.750000</td>\n",
       "      <td>2667.000000</td>\n",
       "      <td>59.000000</td>\n",
       "      <td>57.000000</td>\n",
       "      <td>3.000000</td>\n",
       "      <td>20.000000</td>\n",
       "      <td>18096.000000</td>\n",
       "      <td>0.000000</td>\n",
       "    </tr>\n",
       "    <tr>\n",
       "      <td>max</td>\n",
       "      <td>50882.000000</td>\n",
       "      <td>6194.000000</td>\n",
       "      <td>75.000000</td>\n",
       "      <td>75.000000</td>\n",
       "      <td>4.000000</td>\n",
       "      <td>22.000000</td>\n",
       "      <td>43350.400000</td>\n",
       "      <td>1.000000</td>\n",
       "    </tr>\n",
       "  </tbody>\n",
       "</table>\n",
       "</div>"
      ],
      "text/plain": [
       "                 ID   Region_Code     Upper_Age     Lower_Age  \\\n",
       "count  50882.000000  50882.000000  50882.000000  50882.000000   \n",
       "mean   25441.500000   1732.788707     44.856275     42.738866   \n",
       "std    14688.512535   1424.081652     17.310271     17.319375   \n",
       "min        1.000000      1.000000     18.000000     16.000000   \n",
       "25%    12721.250000    523.000000     28.000000     27.000000   \n",
       "50%    25441.500000   1391.000000     44.000000     40.000000   \n",
       "75%    38161.750000   2667.000000     59.000000     57.000000   \n",
       "max    50882.000000   6194.000000     75.000000     75.000000   \n",
       "\n",
       "       Holding_Policy_Type  Reco_Policy_Cat  Reco_Policy_Premium      Response  \n",
       "count         30631.000000     50882.000000         50882.000000  50882.000000  \n",
       "mean              2.439228        15.115188         14183.950069      0.239947  \n",
       "std               1.025923         6.340663          6590.074873      0.427055  \n",
       "min               1.000000         1.000000          2280.000000      0.000000  \n",
       "25%               1.000000        12.000000          9248.000000      0.000000  \n",
       "50%               3.000000        17.000000         13178.000000      0.000000  \n",
       "75%               3.000000        20.000000         18096.000000      0.000000  \n",
       "max               4.000000        22.000000         43350.400000      1.000000  "
      ]
     },
     "execution_count": 8,
     "metadata": {},
     "output_type": "execute_result"
    }
   ],
   "source": [
    "Data_train.describe()"
   ]
  },
  {
   "cell_type": "code",
   "execution_count": 9,
   "metadata": {},
   "outputs": [
    {
     "data": {
      "text/html": [
       "<div>\n",
       "<style scoped>\n",
       "    .dataframe tbody tr th:only-of-type {\n",
       "        vertical-align: middle;\n",
       "    }\n",
       "\n",
       "    .dataframe tbody tr th {\n",
       "        vertical-align: top;\n",
       "    }\n",
       "\n",
       "    .dataframe thead th {\n",
       "        text-align: right;\n",
       "    }\n",
       "</style>\n",
       "<table border=\"1\" class=\"dataframe\">\n",
       "  <thead>\n",
       "    <tr style=\"text-align: right;\">\n",
       "      <th></th>\n",
       "      <th>City_Code</th>\n",
       "      <th>Accomodation_Type</th>\n",
       "      <th>Reco_Insurance_Type</th>\n",
       "      <th>Is_Spouse</th>\n",
       "      <th>Health Indicator</th>\n",
       "      <th>Holding_Policy_Duration</th>\n",
       "    </tr>\n",
       "  </thead>\n",
       "  <tbody>\n",
       "    <tr>\n",
       "      <td>count</td>\n",
       "      <td>50882</td>\n",
       "      <td>50882</td>\n",
       "      <td>50882</td>\n",
       "      <td>50882</td>\n",
       "      <td>39191</td>\n",
       "      <td>30631</td>\n",
       "    </tr>\n",
       "    <tr>\n",
       "      <td>unique</td>\n",
       "      <td>36</td>\n",
       "      <td>2</td>\n",
       "      <td>2</td>\n",
       "      <td>2</td>\n",
       "      <td>9</td>\n",
       "      <td>15</td>\n",
       "    </tr>\n",
       "    <tr>\n",
       "      <td>top</td>\n",
       "      <td>C1</td>\n",
       "      <td>Owned</td>\n",
       "      <td>Individual</td>\n",
       "      <td>No</td>\n",
       "      <td>X1</td>\n",
       "      <td>1.0</td>\n",
       "    </tr>\n",
       "    <tr>\n",
       "      <td>freq</td>\n",
       "      <td>8973</td>\n",
       "      <td>27951</td>\n",
       "      <td>40536</td>\n",
       "      <td>42460</td>\n",
       "      <td>13010</td>\n",
       "      <td>4499</td>\n",
       "    </tr>\n",
       "  </tbody>\n",
       "</table>\n",
       "</div>"
      ],
      "text/plain": [
       "       City_Code Accomodation_Type Reco_Insurance_Type Is_Spouse  \\\n",
       "count      50882             50882               50882     50882   \n",
       "unique        36                 2                   2         2   \n",
       "top           C1             Owned          Individual        No   \n",
       "freq        8973             27951               40536     42460   \n",
       "\n",
       "       Health Indicator Holding_Policy_Duration  \n",
       "count             39191                   30631  \n",
       "unique                9                      15  \n",
       "top                  X1                     1.0  \n",
       "freq              13010                    4499  "
      ]
     },
     "execution_count": 9,
     "metadata": {},
     "output_type": "execute_result"
    }
   ],
   "source": [
    "Data_train.describe(include = np.object)"
   ]
  },
  {
   "cell_type": "code",
   "execution_count": 10,
   "metadata": {},
   "outputs": [
    {
     "data": {
      "text/html": [
       "<div>\n",
       "<style scoped>\n",
       "    .dataframe tbody tr th:only-of-type {\n",
       "        vertical-align: middle;\n",
       "    }\n",
       "\n",
       "    .dataframe tbody tr th {\n",
       "        vertical-align: top;\n",
       "    }\n",
       "\n",
       "    .dataframe thead th {\n",
       "        text-align: right;\n",
       "    }\n",
       "</style>\n",
       "<table border=\"1\" class=\"dataframe\">\n",
       "  <thead>\n",
       "    <tr style=\"text-align: right;\">\n",
       "      <th></th>\n",
       "      <th>ID</th>\n",
       "      <th>Region_Code</th>\n",
       "      <th>Upper_Age</th>\n",
       "      <th>Lower_Age</th>\n",
       "      <th>Holding_Policy_Type</th>\n",
       "      <th>Reco_Policy_Cat</th>\n",
       "      <th>Reco_Policy_Premium</th>\n",
       "    </tr>\n",
       "  </thead>\n",
       "  <tbody>\n",
       "    <tr>\n",
       "      <td>count</td>\n",
       "      <td>21805.000000</td>\n",
       "      <td>21805.000000</td>\n",
       "      <td>21805.000000</td>\n",
       "      <td>21805.000000</td>\n",
       "      <td>13202.000000</td>\n",
       "      <td>21805.000000</td>\n",
       "      <td>21805.000000</td>\n",
       "    </tr>\n",
       "    <tr>\n",
       "      <td>mean</td>\n",
       "      <td>61785.000000</td>\n",
       "      <td>1748.737491</td>\n",
       "      <td>44.877734</td>\n",
       "      <td>42.748085</td>\n",
       "      <td>2.440085</td>\n",
       "      <td>15.138363</td>\n",
       "      <td>14220.306581</td>\n",
       "    </tr>\n",
       "    <tr>\n",
       "      <td>std</td>\n",
       "      <td>6294.705646</td>\n",
       "      <td>1438.358949</td>\n",
       "      <td>17.254898</td>\n",
       "      <td>17.269112</td>\n",
       "      <td>1.037627</td>\n",
       "      <td>6.302805</td>\n",
       "      <td>6497.996164</td>\n",
       "    </tr>\n",
       "    <tr>\n",
       "      <td>min</td>\n",
       "      <td>50883.000000</td>\n",
       "      <td>1.000000</td>\n",
       "      <td>18.000000</td>\n",
       "      <td>16.000000</td>\n",
       "      <td>1.000000</td>\n",
       "      <td>1.000000</td>\n",
       "      <td>2152.000000</td>\n",
       "    </tr>\n",
       "    <tr>\n",
       "      <td>25%</td>\n",
       "      <td>56334.000000</td>\n",
       "      <td>535.000000</td>\n",
       "      <td>28.000000</td>\n",
       "      <td>27.000000</td>\n",
       "      <td>1.000000</td>\n",
       "      <td>12.000000</td>\n",
       "      <td>9285.000000</td>\n",
       "    </tr>\n",
       "    <tr>\n",
       "      <td>50%</td>\n",
       "      <td>61785.000000</td>\n",
       "      <td>1392.000000</td>\n",
       "      <td>44.000000</td>\n",
       "      <td>41.000000</td>\n",
       "      <td>3.000000</td>\n",
       "      <td>17.000000</td>\n",
       "      <td>13244.000000</td>\n",
       "    </tr>\n",
       "    <tr>\n",
       "      <td>75%</td>\n",
       "      <td>67236.000000</td>\n",
       "      <td>2712.000000</td>\n",
       "      <td>59.000000</td>\n",
       "      <td>57.000000</td>\n",
       "      <td>3.000000</td>\n",
       "      <td>20.000000</td>\n",
       "      <td>18201.600000</td>\n",
       "    </tr>\n",
       "    <tr>\n",
       "      <td>max</td>\n",
       "      <td>72687.000000</td>\n",
       "      <td>6185.000000</td>\n",
       "      <td>75.000000</td>\n",
       "      <td>75.000000</td>\n",
       "      <td>4.000000</td>\n",
       "      <td>22.000000</td>\n",
       "      <td>43776.000000</td>\n",
       "    </tr>\n",
       "  </tbody>\n",
       "</table>\n",
       "</div>"
      ],
      "text/plain": [
       "                 ID   Region_Code     Upper_Age     Lower_Age  \\\n",
       "count  21805.000000  21805.000000  21805.000000  21805.000000   \n",
       "mean   61785.000000   1748.737491     44.877734     42.748085   \n",
       "std     6294.705646   1438.358949     17.254898     17.269112   \n",
       "min    50883.000000      1.000000     18.000000     16.000000   \n",
       "25%    56334.000000    535.000000     28.000000     27.000000   \n",
       "50%    61785.000000   1392.000000     44.000000     41.000000   \n",
       "75%    67236.000000   2712.000000     59.000000     57.000000   \n",
       "max    72687.000000   6185.000000     75.000000     75.000000   \n",
       "\n",
       "       Holding_Policy_Type  Reco_Policy_Cat  Reco_Policy_Premium  \n",
       "count         13202.000000     21805.000000         21805.000000  \n",
       "mean              2.440085        15.138363         14220.306581  \n",
       "std               1.037627         6.302805          6497.996164  \n",
       "min               1.000000         1.000000          2152.000000  \n",
       "25%               1.000000        12.000000          9285.000000  \n",
       "50%               3.000000        17.000000         13244.000000  \n",
       "75%               3.000000        20.000000         18201.600000  \n",
       "max               4.000000        22.000000         43776.000000  "
      ]
     },
     "execution_count": 10,
     "metadata": {},
     "output_type": "execute_result"
    }
   ],
   "source": [
    "Data_test.describe()"
   ]
  },
  {
   "cell_type": "code",
   "execution_count": 11,
   "metadata": {},
   "outputs": [
    {
     "data": {
      "text/html": [
       "<div>\n",
       "<style scoped>\n",
       "    .dataframe tbody tr th:only-of-type {\n",
       "        vertical-align: middle;\n",
       "    }\n",
       "\n",
       "    .dataframe tbody tr th {\n",
       "        vertical-align: top;\n",
       "    }\n",
       "\n",
       "    .dataframe thead th {\n",
       "        text-align: right;\n",
       "    }\n",
       "</style>\n",
       "<table border=\"1\" class=\"dataframe\">\n",
       "  <thead>\n",
       "    <tr style=\"text-align: right;\">\n",
       "      <th></th>\n",
       "      <th>City_Code</th>\n",
       "      <th>Accomodation_Type</th>\n",
       "      <th>Reco_Insurance_Type</th>\n",
       "      <th>Is_Spouse</th>\n",
       "      <th>Health Indicator</th>\n",
       "      <th>Holding_Policy_Duration</th>\n",
       "    </tr>\n",
       "  </thead>\n",
       "  <tbody>\n",
       "    <tr>\n",
       "      <td>count</td>\n",
       "      <td>21805</td>\n",
       "      <td>21805</td>\n",
       "      <td>21805</td>\n",
       "      <td>21805</td>\n",
       "      <td>16778</td>\n",
       "      <td>13202</td>\n",
       "    </tr>\n",
       "    <tr>\n",
       "      <td>unique</td>\n",
       "      <td>36</td>\n",
       "      <td>2</td>\n",
       "      <td>2</td>\n",
       "      <td>2</td>\n",
       "      <td>9</td>\n",
       "      <td>15</td>\n",
       "    </tr>\n",
       "    <tr>\n",
       "      <td>top</td>\n",
       "      <td>C1</td>\n",
       "      <td>Owned</td>\n",
       "      <td>Individual</td>\n",
       "      <td>No</td>\n",
       "      <td>X1</td>\n",
       "      <td>14+</td>\n",
       "    </tr>\n",
       "    <tr>\n",
       "      <td>freq</td>\n",
       "      <td>3789</td>\n",
       "      <td>12090</td>\n",
       "      <td>17341</td>\n",
       "      <td>18227</td>\n",
       "      <td>5614</td>\n",
       "      <td>1892</td>\n",
       "    </tr>\n",
       "  </tbody>\n",
       "</table>\n",
       "</div>"
      ],
      "text/plain": [
       "       City_Code Accomodation_Type Reco_Insurance_Type Is_Spouse  \\\n",
       "count      21805             21805               21805     21805   \n",
       "unique        36                 2                   2         2   \n",
       "top           C1             Owned          Individual        No   \n",
       "freq        3789             12090               17341     18227   \n",
       "\n",
       "       Health Indicator Holding_Policy_Duration  \n",
       "count             16778                   13202  \n",
       "unique                9                      15  \n",
       "top                  X1                     14+  \n",
       "freq               5614                    1892  "
      ]
     },
     "execution_count": 11,
     "metadata": {},
     "output_type": "execute_result"
    }
   ],
   "source": [
    "Data_test.describe(include = np.object)"
   ]
  },
  {
   "cell_type": "code",
   "execution_count": 12,
   "metadata": {},
   "outputs": [],
   "source": [
    "Insurance_data = pd.concat([Data_train,Data_test]).reset_index(drop=True)"
   ]
  },
  {
   "cell_type": "code",
   "execution_count": 13,
   "metadata": {},
   "outputs": [
    {
     "data": {
      "text/plain": [
       "(72687, 14)"
      ]
     },
     "execution_count": 13,
     "metadata": {},
     "output_type": "execute_result"
    }
   ],
   "source": [
    "Insurance_data.shape"
   ]
  },
  {
   "cell_type": "code",
   "execution_count": 14,
   "metadata": {},
   "outputs": [
    {
     "data": {
      "text/html": [
       "<div>\n",
       "<style scoped>\n",
       "    .dataframe tbody tr th:only-of-type {\n",
       "        vertical-align: middle;\n",
       "    }\n",
       "\n",
       "    .dataframe tbody tr th {\n",
       "        vertical-align: top;\n",
       "    }\n",
       "\n",
       "    .dataframe thead th {\n",
       "        text-align: right;\n",
       "    }\n",
       "</style>\n",
       "<table border=\"1\" class=\"dataframe\">\n",
       "  <thead>\n",
       "    <tr style=\"text-align: right;\">\n",
       "      <th></th>\n",
       "      <th>Accomodation_Type</th>\n",
       "      <th>City_Code</th>\n",
       "      <th>Health Indicator</th>\n",
       "      <th>Holding_Policy_Duration</th>\n",
       "      <th>Holding_Policy_Type</th>\n",
       "      <th>ID</th>\n",
       "      <th>Is_Spouse</th>\n",
       "      <th>Lower_Age</th>\n",
       "      <th>Reco_Insurance_Type</th>\n",
       "      <th>Reco_Policy_Cat</th>\n",
       "      <th>Reco_Policy_Premium</th>\n",
       "      <th>Region_Code</th>\n",
       "      <th>Response</th>\n",
       "      <th>Upper_Age</th>\n",
       "    </tr>\n",
       "  </thead>\n",
       "  <tbody>\n",
       "    <tr>\n",
       "      <td>0</td>\n",
       "      <td>Rented</td>\n",
       "      <td>C3</td>\n",
       "      <td>X1</td>\n",
       "      <td>14+</td>\n",
       "      <td>3.0</td>\n",
       "      <td>1</td>\n",
       "      <td>No</td>\n",
       "      <td>36</td>\n",
       "      <td>Individual</td>\n",
       "      <td>22</td>\n",
       "      <td>11628.0</td>\n",
       "      <td>3213</td>\n",
       "      <td>0.0</td>\n",
       "      <td>36</td>\n",
       "    </tr>\n",
       "    <tr>\n",
       "      <td>1</td>\n",
       "      <td>Owned</td>\n",
       "      <td>C5</td>\n",
       "      <td>X2</td>\n",
       "      <td>NaN</td>\n",
       "      <td>NaN</td>\n",
       "      <td>2</td>\n",
       "      <td>No</td>\n",
       "      <td>22</td>\n",
       "      <td>Joint</td>\n",
       "      <td>22</td>\n",
       "      <td>30510.0</td>\n",
       "      <td>1117</td>\n",
       "      <td>0.0</td>\n",
       "      <td>75</td>\n",
       "    </tr>\n",
       "    <tr>\n",
       "      <td>2</td>\n",
       "      <td>Owned</td>\n",
       "      <td>C5</td>\n",
       "      <td>NaN</td>\n",
       "      <td>1.0</td>\n",
       "      <td>1.0</td>\n",
       "      <td>3</td>\n",
       "      <td>No</td>\n",
       "      <td>32</td>\n",
       "      <td>Individual</td>\n",
       "      <td>19</td>\n",
       "      <td>7450.0</td>\n",
       "      <td>3732</td>\n",
       "      <td>1.0</td>\n",
       "      <td>32</td>\n",
       "    </tr>\n",
       "    <tr>\n",
       "      <td>3</td>\n",
       "      <td>Owned</td>\n",
       "      <td>C24</td>\n",
       "      <td>X1</td>\n",
       "      <td>14+</td>\n",
       "      <td>3.0</td>\n",
       "      <td>4</td>\n",
       "      <td>No</td>\n",
       "      <td>48</td>\n",
       "      <td>Joint</td>\n",
       "      <td>19</td>\n",
       "      <td>17780.0</td>\n",
       "      <td>4378</td>\n",
       "      <td>0.0</td>\n",
       "      <td>52</td>\n",
       "    </tr>\n",
       "    <tr>\n",
       "      <td>4</td>\n",
       "      <td>Rented</td>\n",
       "      <td>C8</td>\n",
       "      <td>X2</td>\n",
       "      <td>3.0</td>\n",
       "      <td>1.0</td>\n",
       "      <td>5</td>\n",
       "      <td>No</td>\n",
       "      <td>44</td>\n",
       "      <td>Individual</td>\n",
       "      <td>16</td>\n",
       "      <td>10404.0</td>\n",
       "      <td>2190</td>\n",
       "      <td>0.0</td>\n",
       "      <td>44</td>\n",
       "    </tr>\n",
       "  </tbody>\n",
       "</table>\n",
       "</div>"
      ],
      "text/plain": [
       "  Accomodation_Type City_Code Health Indicator Holding_Policy_Duration  \\\n",
       "0            Rented        C3               X1                     14+   \n",
       "1             Owned        C5               X2                     NaN   \n",
       "2             Owned        C5              NaN                     1.0   \n",
       "3             Owned       C24               X1                     14+   \n",
       "4            Rented        C8               X2                     3.0   \n",
       "\n",
       "   Holding_Policy_Type  ID Is_Spouse  Lower_Age Reco_Insurance_Type  \\\n",
       "0                  3.0   1        No         36          Individual   \n",
       "1                  NaN   2        No         22               Joint   \n",
       "2                  1.0   3        No         32          Individual   \n",
       "3                  3.0   4        No         48               Joint   \n",
       "4                  1.0   5        No         44          Individual   \n",
       "\n",
       "   Reco_Policy_Cat  Reco_Policy_Premium  Region_Code  Response  Upper_Age  \n",
       "0               22              11628.0         3213       0.0         36  \n",
       "1               22              30510.0         1117       0.0         75  \n",
       "2               19               7450.0         3732       1.0         32  \n",
       "3               19              17780.0         4378       0.0         52  \n",
       "4               16              10404.0         2190       0.0         44  "
      ]
     },
     "execution_count": 14,
     "metadata": {},
     "output_type": "execute_result"
    }
   ],
   "source": [
    "Insurance_data.head()"
   ]
  },
  {
   "cell_type": "code",
   "execution_count": 15,
   "metadata": {},
   "outputs": [
    {
     "data": {
      "text/html": [
       "<div>\n",
       "<style scoped>\n",
       "    .dataframe tbody tr th:only-of-type {\n",
       "        vertical-align: middle;\n",
       "    }\n",
       "\n",
       "    .dataframe tbody tr th {\n",
       "        vertical-align: top;\n",
       "    }\n",
       "\n",
       "    .dataframe thead th {\n",
       "        text-align: right;\n",
       "    }\n",
       "</style>\n",
       "<table border=\"1\" class=\"dataframe\">\n",
       "  <thead>\n",
       "    <tr style=\"text-align: right;\">\n",
       "      <th></th>\n",
       "      <th>Accomodation_Type</th>\n",
       "      <th>City_Code</th>\n",
       "      <th>Health Indicator</th>\n",
       "      <th>Holding_Policy_Duration</th>\n",
       "      <th>Holding_Policy_Type</th>\n",
       "      <th>ID</th>\n",
       "      <th>Is_Spouse</th>\n",
       "      <th>Lower_Age</th>\n",
       "      <th>Reco_Insurance_Type</th>\n",
       "      <th>Reco_Policy_Cat</th>\n",
       "      <th>Reco_Policy_Premium</th>\n",
       "      <th>Region_Code</th>\n",
       "      <th>Response</th>\n",
       "      <th>Upper_Age</th>\n",
       "    </tr>\n",
       "  </thead>\n",
       "  <tbody>\n",
       "    <tr>\n",
       "      <td>72682</td>\n",
       "      <td>Owned</td>\n",
       "      <td>C3</td>\n",
       "      <td>X1</td>\n",
       "      <td>4.0</td>\n",
       "      <td>1.0</td>\n",
       "      <td>72683</td>\n",
       "      <td>No</td>\n",
       "      <td>45</td>\n",
       "      <td>Individual</td>\n",
       "      <td>18</td>\n",
       "      <td>15884.0</td>\n",
       "      <td>1044</td>\n",
       "      <td>NaN</td>\n",
       "      <td>45</td>\n",
       "    </tr>\n",
       "    <tr>\n",
       "      <td>72683</td>\n",
       "      <td>Owned</td>\n",
       "      <td>C4</td>\n",
       "      <td>X5</td>\n",
       "      <td>6.0</td>\n",
       "      <td>3.0</td>\n",
       "      <td>72684</td>\n",
       "      <td>No</td>\n",
       "      <td>59</td>\n",
       "      <td>Individual</td>\n",
       "      <td>18</td>\n",
       "      <td>21390.0</td>\n",
       "      <td>266</td>\n",
       "      <td>NaN</td>\n",
       "      <td>59</td>\n",
       "    </tr>\n",
       "    <tr>\n",
       "      <td>72684</td>\n",
       "      <td>Owned</td>\n",
       "      <td>C12</td>\n",
       "      <td>X3</td>\n",
       "      <td>NaN</td>\n",
       "      <td>NaN</td>\n",
       "      <td>72685</td>\n",
       "      <td>No</td>\n",
       "      <td>74</td>\n",
       "      <td>Individual</td>\n",
       "      <td>1</td>\n",
       "      <td>17836.0</td>\n",
       "      <td>2470</td>\n",
       "      <td>NaN</td>\n",
       "      <td>74</td>\n",
       "    </tr>\n",
       "    <tr>\n",
       "      <td>72685</td>\n",
       "      <td>Rented</td>\n",
       "      <td>C10</td>\n",
       "      <td>X4</td>\n",
       "      <td>3.0</td>\n",
       "      <td>1.0</td>\n",
       "      <td>72686</td>\n",
       "      <td>No</td>\n",
       "      <td>25</td>\n",
       "      <td>Individual</td>\n",
       "      <td>19</td>\n",
       "      <td>11568.0</td>\n",
       "      <td>1676</td>\n",
       "      <td>NaN</td>\n",
       "      <td>25</td>\n",
       "    </tr>\n",
       "    <tr>\n",
       "      <td>72686</td>\n",
       "      <td>Owned</td>\n",
       "      <td>C2</td>\n",
       "      <td>X2</td>\n",
       "      <td>14+</td>\n",
       "      <td>2.0</td>\n",
       "      <td>72687</td>\n",
       "      <td>No</td>\n",
       "      <td>73</td>\n",
       "      <td>Individual</td>\n",
       "      <td>3</td>\n",
       "      <td>23040.0</td>\n",
       "      <td>3617</td>\n",
       "      <td>NaN</td>\n",
       "      <td>73</td>\n",
       "    </tr>\n",
       "  </tbody>\n",
       "</table>\n",
       "</div>"
      ],
      "text/plain": [
       "      Accomodation_Type City_Code Health Indicator Holding_Policy_Duration  \\\n",
       "72682             Owned        C3               X1                     4.0   \n",
       "72683             Owned        C4               X5                     6.0   \n",
       "72684             Owned       C12               X3                     NaN   \n",
       "72685            Rented       C10               X4                     3.0   \n",
       "72686             Owned        C2               X2                     14+   \n",
       "\n",
       "       Holding_Policy_Type     ID Is_Spouse  Lower_Age Reco_Insurance_Type  \\\n",
       "72682                  1.0  72683        No         45          Individual   \n",
       "72683                  3.0  72684        No         59          Individual   \n",
       "72684                  NaN  72685        No         74          Individual   \n",
       "72685                  1.0  72686        No         25          Individual   \n",
       "72686                  2.0  72687        No         73          Individual   \n",
       "\n",
       "       Reco_Policy_Cat  Reco_Policy_Premium  Region_Code  Response  Upper_Age  \n",
       "72682               18              15884.0         1044       NaN         45  \n",
       "72683               18              21390.0          266       NaN         59  \n",
       "72684                1              17836.0         2470       NaN         74  \n",
       "72685               19              11568.0         1676       NaN         25  \n",
       "72686                3              23040.0         3617       NaN         73  "
      ]
     },
     "execution_count": 15,
     "metadata": {},
     "output_type": "execute_result"
    }
   ],
   "source": [
    "Insurance_data.tail()"
   ]
  },
  {
   "cell_type": "code",
   "execution_count": 16,
   "metadata": {},
   "outputs": [
    {
     "data": {
      "text/html": [
       "<div>\n",
       "<style scoped>\n",
       "    .dataframe tbody tr th:only-of-type {\n",
       "        vertical-align: middle;\n",
       "    }\n",
       "\n",
       "    .dataframe tbody tr th {\n",
       "        vertical-align: top;\n",
       "    }\n",
       "\n",
       "    .dataframe thead th {\n",
       "        text-align: right;\n",
       "    }\n",
       "</style>\n",
       "<table border=\"1\" class=\"dataframe\">\n",
       "  <thead>\n",
       "    <tr style=\"text-align: right;\">\n",
       "      <th></th>\n",
       "      <th>Holding_Policy_Type</th>\n",
       "      <th>ID</th>\n",
       "      <th>Lower_Age</th>\n",
       "      <th>Reco_Policy_Cat</th>\n",
       "      <th>Reco_Policy_Premium</th>\n",
       "      <th>Region_Code</th>\n",
       "      <th>Response</th>\n",
       "      <th>Upper_Age</th>\n",
       "    </tr>\n",
       "  </thead>\n",
       "  <tbody>\n",
       "    <tr>\n",
       "      <td>count</td>\n",
       "      <td>43833.000000</td>\n",
       "      <td>72687.000000</td>\n",
       "      <td>72687.000000</td>\n",
       "      <td>72687.000000</td>\n",
       "      <td>72687.000000</td>\n",
       "      <td>72687.000000</td>\n",
       "      <td>50882.000000</td>\n",
       "      <td>72687.000000</td>\n",
       "    </tr>\n",
       "    <tr>\n",
       "      <td>mean</td>\n",
       "      <td>2.439486</td>\n",
       "      <td>36344.000000</td>\n",
       "      <td>42.741632</td>\n",
       "      <td>15.122140</td>\n",
       "      <td>14194.856472</td>\n",
       "      <td>1737.573101</td>\n",
       "      <td>0.239947</td>\n",
       "      <td>44.862713</td>\n",
       "    </tr>\n",
       "    <tr>\n",
       "      <td>std</td>\n",
       "      <td>1.029450</td>\n",
       "      <td>20983.073845</td>\n",
       "      <td>17.304194</td>\n",
       "      <td>6.329295</td>\n",
       "      <td>6562.564815</td>\n",
       "      <td>1428.388402</td>\n",
       "      <td>0.427055</td>\n",
       "      <td>17.293563</td>\n",
       "    </tr>\n",
       "    <tr>\n",
       "      <td>min</td>\n",
       "      <td>1.000000</td>\n",
       "      <td>1.000000</td>\n",
       "      <td>16.000000</td>\n",
       "      <td>1.000000</td>\n",
       "      <td>2152.000000</td>\n",
       "      <td>1.000000</td>\n",
       "      <td>0.000000</td>\n",
       "      <td>18.000000</td>\n",
       "    </tr>\n",
       "    <tr>\n",
       "      <td>25%</td>\n",
       "      <td>1.000000</td>\n",
       "      <td>18172.500000</td>\n",
       "      <td>27.000000</td>\n",
       "      <td>12.000000</td>\n",
       "      <td>9254.000000</td>\n",
       "      <td>527.000000</td>\n",
       "      <td>0.000000</td>\n",
       "      <td>28.000000</td>\n",
       "    </tr>\n",
       "    <tr>\n",
       "      <td>50%</td>\n",
       "      <td>3.000000</td>\n",
       "      <td>36344.000000</td>\n",
       "      <td>40.000000</td>\n",
       "      <td>17.000000</td>\n",
       "      <td>13200.000000</td>\n",
       "      <td>1391.000000</td>\n",
       "      <td>0.000000</td>\n",
       "      <td>44.000000</td>\n",
       "    </tr>\n",
       "    <tr>\n",
       "      <td>75%</td>\n",
       "      <td>3.000000</td>\n",
       "      <td>54515.500000</td>\n",
       "      <td>57.000000</td>\n",
       "      <td>20.000000</td>\n",
       "      <td>18144.000000</td>\n",
       "      <td>2681.000000</td>\n",
       "      <td>0.000000</td>\n",
       "      <td>59.000000</td>\n",
       "    </tr>\n",
       "    <tr>\n",
       "      <td>max</td>\n",
       "      <td>4.000000</td>\n",
       "      <td>72687.000000</td>\n",
       "      <td>75.000000</td>\n",
       "      <td>22.000000</td>\n",
       "      <td>43776.000000</td>\n",
       "      <td>6194.000000</td>\n",
       "      <td>1.000000</td>\n",
       "      <td>75.000000</td>\n",
       "    </tr>\n",
       "  </tbody>\n",
       "</table>\n",
       "</div>"
      ],
      "text/plain": [
       "       Holding_Policy_Type            ID     Lower_Age  Reco_Policy_Cat  \\\n",
       "count         43833.000000  72687.000000  72687.000000     72687.000000   \n",
       "mean              2.439486  36344.000000     42.741632        15.122140   \n",
       "std               1.029450  20983.073845     17.304194         6.329295   \n",
       "min               1.000000      1.000000     16.000000         1.000000   \n",
       "25%               1.000000  18172.500000     27.000000        12.000000   \n",
       "50%               3.000000  36344.000000     40.000000        17.000000   \n",
       "75%               3.000000  54515.500000     57.000000        20.000000   \n",
       "max               4.000000  72687.000000     75.000000        22.000000   \n",
       "\n",
       "       Reco_Policy_Premium   Region_Code      Response     Upper_Age  \n",
       "count         72687.000000  72687.000000  50882.000000  72687.000000  \n",
       "mean          14194.856472   1737.573101      0.239947     44.862713  \n",
       "std            6562.564815   1428.388402      0.427055     17.293563  \n",
       "min            2152.000000      1.000000      0.000000     18.000000  \n",
       "25%            9254.000000    527.000000      0.000000     28.000000  \n",
       "50%           13200.000000   1391.000000      0.000000     44.000000  \n",
       "75%           18144.000000   2681.000000      0.000000     59.000000  \n",
       "max           43776.000000   6194.000000      1.000000     75.000000  "
      ]
     },
     "execution_count": 16,
     "metadata": {},
     "output_type": "execute_result"
    }
   ],
   "source": [
    "Insurance_data.describe()"
   ]
  },
  {
   "cell_type": "code",
   "execution_count": 17,
   "metadata": {},
   "outputs": [
    {
     "data": {
      "text/html": [
       "<div>\n",
       "<style scoped>\n",
       "    .dataframe tbody tr th:only-of-type {\n",
       "        vertical-align: middle;\n",
       "    }\n",
       "\n",
       "    .dataframe tbody tr th {\n",
       "        vertical-align: top;\n",
       "    }\n",
       "\n",
       "    .dataframe thead th {\n",
       "        text-align: right;\n",
       "    }\n",
       "</style>\n",
       "<table border=\"1\" class=\"dataframe\">\n",
       "  <thead>\n",
       "    <tr style=\"text-align: right;\">\n",
       "      <th></th>\n",
       "      <th>Accomodation_Type</th>\n",
       "      <th>City_Code</th>\n",
       "      <th>Health Indicator</th>\n",
       "      <th>Holding_Policy_Duration</th>\n",
       "      <th>Is_Spouse</th>\n",
       "      <th>Reco_Insurance_Type</th>\n",
       "    </tr>\n",
       "  </thead>\n",
       "  <tbody>\n",
       "    <tr>\n",
       "      <td>count</td>\n",
       "      <td>72687</td>\n",
       "      <td>72687</td>\n",
       "      <td>55969</td>\n",
       "      <td>43833</td>\n",
       "      <td>72687</td>\n",
       "      <td>72687</td>\n",
       "    </tr>\n",
       "    <tr>\n",
       "      <td>unique</td>\n",
       "      <td>2</td>\n",
       "      <td>36</td>\n",
       "      <td>9</td>\n",
       "      <td>15</td>\n",
       "      <td>2</td>\n",
       "      <td>2</td>\n",
       "    </tr>\n",
       "    <tr>\n",
       "      <td>top</td>\n",
       "      <td>Owned</td>\n",
       "      <td>C1</td>\n",
       "      <td>X1</td>\n",
       "      <td>1.0</td>\n",
       "      <td>No</td>\n",
       "      <td>Individual</td>\n",
       "    </tr>\n",
       "    <tr>\n",
       "      <td>freq</td>\n",
       "      <td>40041</td>\n",
       "      <td>12762</td>\n",
       "      <td>18624</td>\n",
       "      <td>6390</td>\n",
       "      <td>60687</td>\n",
       "      <td>57877</td>\n",
       "    </tr>\n",
       "  </tbody>\n",
       "</table>\n",
       "</div>"
      ],
      "text/plain": [
       "       Accomodation_Type City_Code Health Indicator Holding_Policy_Duration  \\\n",
       "count              72687     72687            55969                   43833   \n",
       "unique                 2        36                9                      15   \n",
       "top                Owned        C1               X1                     1.0   \n",
       "freq               40041     12762            18624                    6390   \n",
       "\n",
       "       Is_Spouse Reco_Insurance_Type  \n",
       "count      72687               72687  \n",
       "unique         2                   2  \n",
       "top           No          Individual  \n",
       "freq       60687               57877  "
      ]
     },
     "execution_count": 17,
     "metadata": {},
     "output_type": "execute_result"
    }
   ],
   "source": [
    "Insurance_data.describe(include = np.object)"
   ]
  },
  {
   "cell_type": "code",
   "execution_count": 18,
   "metadata": {},
   "outputs": [
    {
     "name": "stdout",
     "output_type": "stream",
     "text": [
      "<class 'pandas.core.frame.DataFrame'>\n",
      "RangeIndex: 72687 entries, 0 to 72686\n",
      "Data columns (total 14 columns):\n",
      "Accomodation_Type          72687 non-null object\n",
      "City_Code                  72687 non-null object\n",
      "Health Indicator           55969 non-null object\n",
      "Holding_Policy_Duration    43833 non-null object\n",
      "Holding_Policy_Type        43833 non-null float64\n",
      "ID                         72687 non-null int64\n",
      "Is_Spouse                  72687 non-null object\n",
      "Lower_Age                  72687 non-null int64\n",
      "Reco_Insurance_Type        72687 non-null object\n",
      "Reco_Policy_Cat            72687 non-null int64\n",
      "Reco_Policy_Premium        72687 non-null float64\n",
      "Region_Code                72687 non-null int64\n",
      "Response                   50882 non-null float64\n",
      "Upper_Age                  72687 non-null int64\n",
      "dtypes: float64(3), int64(5), object(6)\n",
      "memory usage: 7.8+ MB\n"
     ]
    }
   ],
   "source": [
    "Insurance_data.info()"
   ]
  },
  {
   "cell_type": "code",
   "execution_count": 19,
   "metadata": {},
   "outputs": [
    {
     "data": {
      "text/plain": [
       "Accomodation_Type              0\n",
       "City_Code                      0\n",
       "Health Indicator           16718\n",
       "Holding_Policy_Duration    28854\n",
       "Holding_Policy_Type        28854\n",
       "ID                             0\n",
       "Is_Spouse                      0\n",
       "Lower_Age                      0\n",
       "Reco_Insurance_Type            0\n",
       "Reco_Policy_Cat                0\n",
       "Reco_Policy_Premium            0\n",
       "Region_Code                    0\n",
       "Response                   21805\n",
       "Upper_Age                      0\n",
       "dtype: int64"
      ]
     },
     "execution_count": 19,
     "metadata": {},
     "output_type": "execute_result"
    }
   ],
   "source": [
    "Insurance_data.isnull().sum()"
   ]
  },
  {
   "cell_type": "code",
   "execution_count": 20,
   "metadata": {},
   "outputs": [
    {
     "data": {
      "text/plain": [
       "Accomodation_Type              2\n",
       "City_Code                     36\n",
       "Health Indicator               9\n",
       "Holding_Policy_Duration       15\n",
       "Holding_Policy_Type            4\n",
       "ID                         72687\n",
       "Is_Spouse                      2\n",
       "Lower_Age                     60\n",
       "Reco_Insurance_Type            2\n",
       "Reco_Policy_Cat               22\n",
       "Reco_Policy_Premium         7685\n",
       "Region_Code                 5538\n",
       "Response                       2\n",
       "Upper_Age                     58\n",
       "dtype: int64"
      ]
     },
     "execution_count": 20,
     "metadata": {},
     "output_type": "execute_result"
    }
   ],
   "source": [
    "Insurance_data.nunique()"
   ]
  },
  {
   "cell_type": "code",
   "execution_count": 21,
   "metadata": {},
   "outputs": [
    {
     "data": {
      "text/plain": [
       "<matplotlib.axes._subplots.AxesSubplot at 0x251584abb08>"
      ]
     },
     "execution_count": 21,
     "metadata": {},
     "output_type": "execute_result"
    },
    {
     "data": {
      "image/png": "[encoded data removed]",
      "text/plain": [
       "<Figure size 432x288 with 2 Axes>"
      ]
     },
     "metadata": {
      "needs_background": "light"
     },
     "output_type": "display_data"
    }
   ],
   "source": [
    "sns.heatmap(Insurance_data.corr(),annot=True,vmin=-1,vmax=1,center=0,cmap='coolwarm')"
   ]
  },
  {
   "cell_type": "code",
   "execution_count": 22,
   "metadata": {},
   "outputs": [
    {
     "data": {
      "image/png": "[encoded data removed]",
      "text/plain": [
       "<Figure size 1296x648 with 2 Axes>"
      ]
     },
     "metadata": {},
     "output_type": "display_data"
    }
   ],
   "source": [
    "num_corr = Insurance_data.corr()\n",
    "\n",
    "mask = np.zeros_like(num_corr)\n",
    "\n",
    "mask[np.triu_indices_from(mask)] = True\n",
    "\n",
    "with sns.axes_style(\"white\"):\n",
    "    f, ax = plt.subplots(figsize=(18, 9))\n",
    "    ax = sns.heatmap(num_corr ,vmin = -1,vmax=1, annot = True, cmap=\"coolwarm\")"
   ]
  },
  {
   "cell_type": "code",
   "execution_count": 23,
   "metadata": {},
   "outputs": [],
   "source": [
    "Insurance_data_1 = Insurance_data.copy()"
   ]
  },
  {
   "cell_type": "code",
   "execution_count": 24,
   "metadata": {},
   "outputs": [
    {
     "data": {
      "text/plain": [
       "(72687, 14)"
      ]
     },
     "execution_count": 24,
     "metadata": {},
     "output_type": "execute_result"
    }
   ],
   "source": [
    "Insurance_data_1.shape"
   ]
  },
  {
   "cell_type": "code",
   "execution_count": 25,
   "metadata": {},
   "outputs": [
    {
     "data": {
      "text/plain": [
       "(72687, 13)"
      ]
     },
     "execution_count": 25,
     "metadata": {},
     "output_type": "execute_result"
    }
   ],
   "source": [
    "Insurance_data_1 = Insurance_data_1.drop(\"ID\", axis = 1)   # data_2.dropna() - all columns\n",
    "Insurance_data_1.shape"
   ]
  },
  {
   "cell_type": "code",
   "execution_count": 26,
   "metadata": {},
   "outputs": [
    {
     "data": {
      "text/plain": [
       "Owned     40041\n",
       "Rented    32646\n",
       "Name: Accomodation_Type, dtype: int64"
      ]
     },
     "execution_count": 26,
     "metadata": {},
     "output_type": "execute_result"
    }
   ],
   "source": [
    "Insurance_data_1['Accomodation_Type'].value_counts()"
   ]
  },
  {
   "cell_type": "code",
   "execution_count": 27,
   "metadata": {},
   "outputs": [
    {
     "data": {
      "text/plain": [
       "<matplotlib.axes._subplots.AxesSubplot at 0x25158f633c8>"
      ]
     },
     "execution_count": 27,
     "metadata": {},
     "output_type": "execute_result"
    },
    {
     "data": {
      "image/png": "[encoded data removed]",
      "text/plain": [
       "<Figure size 432x288 with 1 Axes>"
      ]
     },
     "metadata": {
      "needs_background": "light"
     },
     "output_type": "display_data"
    }
   ],
   "source": [
    "sns.scatterplot(Insurance_data_1['Accomodation_Type'].astype(str),Insurance_data_1['Response'])"
   ]
  },
  {
   "cell_type": "code",
   "execution_count": 28,
   "metadata": {},
   "outputs": [
    {
     "data": {
      "text/plain": [
       "<matplotlib.axes._subplots.AxesSubplot at 0x25158fad608>"
      ]
     },
     "execution_count": 28,
     "metadata": {},
     "output_type": "execute_result"
    },
    {
     "data": {
      "image/png": "[encoded data removed]",
      "text/plain": [
       "<Figure size 432x288 with 1 Axes>"
      ]
     },
     "metadata": {
      "needs_background": "light"
     },
     "output_type": "display_data"
    }
   ],
   "source": [
    "sns.barplot(hue='Accomodation_Type',y='Response',data=Insurance_data_1,x='Holding_Policy_Type')"
   ]
  },
  {
   "cell_type": "code",
   "execution_count": 29,
   "metadata": {},
   "outputs": [
    {
     "data": {
      "text/plain": [
       "<matplotlib.axes._subplots.AxesSubplot at 0x25158ad36c8>"
      ]
     },
     "execution_count": 29,
     "metadata": {},
     "output_type": "execute_result"
    },
    {
     "data": {
      "image/png": "[encoded data removed]",
      "text/plain": [
       "<Figure size 432x288 with 1 Axes>"
      ]
     },
     "metadata": {
      "needs_background": "light"
     },
     "output_type": "display_data"
    }
   ],
   "source": [
    "sns.boxplot(Insurance_data_1['Holding_Policy_Type'])"
   ]
  },
  {
   "cell_type": "code",
   "execution_count": 30,
   "metadata": {},
   "outputs": [
    {
     "data": {
      "text/plain": [
       "<matplotlib.axes._subplots.AxesSubplot at 0x2515955eb88>"
      ]
     },
     "execution_count": 30,
     "metadata": {},
     "output_type": "execute_result"
    },
    {
     "data": {
      "image/png": "[encoded data removed]",
      "text/plain": [
       "<Figure size 432x288 with 1 Axes>"
      ]
     },
     "metadata": {
      "needs_background": "light"
     },
     "output_type": "display_data"
    }
   ],
   "source": [
    "sns.scatterplot(hue='Accomodation_Type',y='Response',data=Insurance_data_1,x='Health Indicator')"
   ]
  },
  {
   "cell_type": "code",
   "execution_count": 31,
   "metadata": {},
   "outputs": [
    {
     "data": {
      "text/plain": [
       "Health Indicator           22.999986\n",
       "Response                   29.998487\n",
       "Holding_Policy_Duration    39.696232\n",
       "Holding_Policy_Type        39.696232\n",
       "dtype: float64"
      ]
     },
     "execution_count": 31,
     "metadata": {},
     "output_type": "execute_result"
    }
   ],
   "source": [
    "Insurance_data_1_miss = Insurance_data_1.isnull().sum() / len(Insurance_data_1) * 100\n",
    "Insurance_data_1_miss = Insurance_data_1_miss[Insurance_data_1_miss > 0]\n",
    "Insurance_data_1_miss.sort_values(inplace=True)\n",
    "Insurance_data_1_miss"
   ]
  },
  {
   "cell_type": "code",
   "execution_count": 32,
   "metadata": {},
   "outputs": [
    {
     "data": {
      "text/plain": [
       "<matplotlib.axes._subplots.AxesSubplot at 0x251597026c8>"
      ]
     },
     "execution_count": 32,
     "metadata": {},
     "output_type": "execute_result"
    },
    {
     "data": {
      "image/png": "[encoded data removed]",
      "text/plain": [
       "<Figure size 432x288 with 2 Axes>"
      ]
     },
     "metadata": {
      "needs_background": "light"
     },
     "output_type": "display_data"
    }
   ],
   "source": [
    "sns.heatmap(Insurance_data_1.isnull())"
   ]
  },
  {
   "cell_type": "code",
   "execution_count": 33,
   "metadata": {},
   "outputs": [
    {
     "data": {
      "text/plain": [
       "<matplotlib.axes._subplots.AxesSubplot at 0x25159844f48>"
      ]
     },
     "execution_count": 33,
     "metadata": {},
     "output_type": "execute_result"
    },
    {
     "data": {
      "image/png": "[encoded data removed]",
      "text/plain": [
       "<Figure size 432x288 with 1 Axes>"
      ]
     },
     "metadata": {
      "needs_background": "light"
     },
     "output_type": "display_data"
    }
   ],
   "source": [
    "Insurance_data_1_miss.plot(kind = \"bar\")"
   ]
  },
  {
   "cell_type": "code",
   "execution_count": 34,
   "metadata": {},
   "outputs": [],
   "source": [
    "from sklearn.preprocessing import LabelEncoder"
   ]
  },
  {
   "cell_type": "code",
   "execution_count": 35,
   "metadata": {},
   "outputs": [],
   "source": [
    "labelEncoder= LabelEncoder()\n",
    "Insurance_data_1['City_Code'] = labelEncoder.fit_transform(Insurance_data_1['City_Code'])"
   ]
  },
  {
   "cell_type": "code",
   "execution_count": 36,
   "metadata": {},
   "outputs": [
    {
     "data": {
      "text/plain": [
       "1.0     6390\n",
       "14+     6227\n",
       "2.0     6032\n",
       "3.0     5192\n",
       "4.0     3976\n",
       "5.0     3354\n",
       "6.0     2797\n",
       "7.0     2309\n",
       "8.0     1885\n",
       "9.0     1607\n",
       "10.0    1146\n",
       "11.0     800\n",
       "13.0     732\n",
       "12.0     709\n",
       "14.0     677\n",
       "Name: Holding_Policy_Duration, dtype: int64"
      ]
     },
     "execution_count": 36,
     "metadata": {},
     "output_type": "execute_result"
    }
   ],
   "source": [
    "Insurance_data_1['Holding_Policy_Duration'].value_counts()"
   ]
  },
  {
   "cell_type": "code",
   "execution_count": 37,
   "metadata": {},
   "outputs": [
    {
     "data": {
      "text/plain": [
       "<matplotlib.axes._subplots.AxesSubplot at 0x2515a6bae88>"
      ]
     },
     "execution_count": 37,
     "metadata": {},
     "output_type": "execute_result"
    },
    {
     "data": {
      "image/png": "[encoded data removed]",
      "text/plain": [
       "<Figure size 432x288 with 1 Axes>"
      ]
     },
     "metadata": {
      "needs_background": "light"
     },
     "output_type": "display_data"
    }
   ],
   "source": [
    "sns.countplot('Holding_Policy_Duration',data=Insurance_data_1,hue='Response')"
   ]
  },
  {
   "cell_type": "code",
   "execution_count": 38,
   "metadata": {},
   "outputs": [],
   "source": [
    "Insurance_data_1['Holding_Policy_Duration'].replace(to_replace = '\\+', value = '',regex = True,inplace = True)\n",
    "Insurance_data_1['Holding_Policy_Duration']=pd.to_numeric(Insurance_data_1['Holding_Policy_Duration'],errors='raise',downcast=None)"
   ]
  },
  {
   "cell_type": "code",
   "execution_count": 39,
   "metadata": {},
   "outputs": [
    {
     "data": {
      "text/plain": [
       "Owned     40041\n",
       "Rented    32646\n",
       "Name: Accomodation_Type, dtype: int64"
      ]
     },
     "execution_count": 39,
     "metadata": {},
     "output_type": "execute_result"
    }
   ],
   "source": [
    "Insurance_data_1['Accomodation_Type'].value_counts()"
   ]
  },
  {
   "cell_type": "code",
   "execution_count": 40,
   "metadata": {},
   "outputs": [
    {
     "data": {
      "text/plain": [
       "<matplotlib.axes._subplots.AxesSubplot at 0x2515a2068c8>"
      ]
     },
     "execution_count": 40,
     "metadata": {},
     "output_type": "execute_result"
    },
    {
     "data": {
      "image/png": "[encoded data removed]",
      "text/plain": [
       "<Figure size 432x288 with 1 Axes>"
      ]
     },
     "metadata": {
      "needs_background": "light"
     },
     "output_type": "display_data"
    }
   ],
   "source": [
    "sns.countplot('Accomodation_Type',data=Insurance_data_1,hue='Response')"
   ]
  },
  {
   "cell_type": "code",
   "execution_count": 41,
   "metadata": {},
   "outputs": [],
   "source": [
    "Insurance_data_1['Accomodation_Type'].replace(to_replace = 'Rented', value = '0',regex = True,inplace = True)\n",
    "Insurance_data_1['Accomodation_Type'].replace(to_replace = 'Owned', value = '1',regex = True,inplace = True)"
   ]
  },
  {
   "cell_type": "code",
   "execution_count": 42,
   "metadata": {},
   "outputs": [
    {
     "data": {
      "text/plain": [
       "Individual    57877\n",
       "Joint         14810\n",
       "Name: Reco_Insurance_Type, dtype: int64"
      ]
     },
     "execution_count": 42,
     "metadata": {},
     "output_type": "execute_result"
    }
   ],
   "source": [
    "Insurance_data_1['Reco_Insurance_Type'].value_counts()"
   ]
  },
  {
   "cell_type": "code",
   "execution_count": 43,
   "metadata": {},
   "outputs": [
    {
     "data": {
      "text/plain": [
       "<matplotlib.axes._subplots.AxesSubplot at 0x2515a24c548>"
      ]
     },
     "execution_count": 43,
     "metadata": {},
     "output_type": "execute_result"
    },
    {
     "data": {
      "image/png": "[encoded data removed]",
      "text/plain": [
       "<Figure size 432x288 with 1 Axes>"
      ]
     },
     "metadata": {
      "needs_background": "light"
     },
     "output_type": "display_data"
    }
   ],
   "source": [
    "sns.countplot('Reco_Insurance_Type',data=Insurance_data_1,hue='Response')"
   ]
  },
  {
   "cell_type": "code",
   "execution_count": 44,
   "metadata": {},
   "outputs": [],
   "source": [
    "Insurance_data_1['Reco_Insurance_Type'].replace(to_replace = 'Individual', value = '0',regex = True,inplace = True)\n",
    "Insurance_data_1['Reco_Insurance_Type'].replace(to_replace = 'Joint', value = '1',regex = True,inplace = True)"
   ]
  },
  {
   "cell_type": "code",
   "execution_count": 45,
   "metadata": {},
   "outputs": [
    {
     "data": {
      "text/plain": [
       "No     60687\n",
       "Yes    12000\n",
       "Name: Is_Spouse, dtype: int64"
      ]
     },
     "execution_count": 45,
     "metadata": {},
     "output_type": "execute_result"
    }
   ],
   "source": [
    "Insurance_data_1['Is_Spouse'].value_counts()"
   ]
  },
  {
   "cell_type": "code",
   "execution_count": 46,
   "metadata": {},
   "outputs": [
    {
     "data": {
      "text/plain": [
       "<matplotlib.axes._subplots.AxesSubplot at 0x25158f55308>"
      ]
     },
     "execution_count": 46,
     "metadata": {},
     "output_type": "execute_result"
    },
    {
     "data": {
      "image/png": "[encoded data removed]",
      "text/plain": [
       "<Figure size 432x288 with 1 Axes>"
      ]
     },
     "metadata": {
      "needs_background": "light"
     },
     "output_type": "display_data"
    }
   ],
   "source": [
    "sns.countplot('Is_Spouse',data=Insurance_data_1,hue='Response')"
   ]
  },
  {
   "cell_type": "code",
   "execution_count": 47,
   "metadata": {},
   "outputs": [],
   "source": [
    "Insurance_data_1['Is_Spouse'].replace(to_replace = 'No', value = '0',regex = True,inplace = True)\n",
    "Insurance_data_1['Is_Spouse'].replace(to_replace = 'Yes', value = '1',regex = True,inplace = True)"
   ]
  },
  {
   "cell_type": "code",
   "execution_count": 48,
   "metadata": {},
   "outputs": [
    {
     "data": {
      "text/plain": [
       "X1    18624\n",
       "X2    14848\n",
       "X3     9608\n",
       "X4     8185\n",
       "X5     2408\n",
       "X6     1794\n",
       "X7      292\n",
       "X8      119\n",
       "X9       91\n",
       "Name: Health Indicator, dtype: int64"
      ]
     },
     "execution_count": 48,
     "metadata": {},
     "output_type": "execute_result"
    }
   ],
   "source": [
    "Insurance_data_1['Health Indicator'].value_counts()"
   ]
  },
  {
   "cell_type": "code",
   "execution_count": 49,
   "metadata": {},
   "outputs": [
    {
     "data": {
      "text/plain": [
       "<matplotlib.axes._subplots.AxesSubplot at 0x2515a366648>"
      ]
     },
     "execution_count": 49,
     "metadata": {},
     "output_type": "execute_result"
    },
    {
     "data": {
      "image/png": "[encoded data removed]",
      "text/plain": [
       "<Figure size 432x288 with 1 Axes>"
      ]
     },
     "metadata": {
      "needs_background": "light"
     },
     "output_type": "display_data"
    }
   ],
   "source": [
    "sns.countplot('Health Indicator',data=Insurance_data_1,hue='Response')"
   ]
  },
  {
   "cell_type": "code",
   "execution_count": 50,
   "metadata": {},
   "outputs": [],
   "source": [
    "Insurance_data_1['Health Indicator'].replace(to_replace = 'X1', value = '0',regex = True,inplace = True)\n",
    "Insurance_data_1['Health Indicator'].replace(to_replace = 'X2', value = '1',regex = True,inplace = True)\n",
    "Insurance_data_1['Health Indicator'].replace(to_replace = 'X3', value = '2',regex = True,inplace = True)\n",
    "Insurance_data_1['Health Indicator'].replace(to_replace = 'X4', value = '3',regex = True,inplace = True)\n",
    "Insurance_data_1['Health Indicator'].replace(to_replace = 'X5', value = '4',regex = True,inplace = True)\n",
    "Insurance_data_1['Health Indicator'].replace(to_replace = 'X6', value = '5',regex = True,inplace = True)\n",
    "Insurance_data_1['Health Indicator'].replace(to_replace = 'X7', value = '6',regex = True,inplace = True)\n",
    "Insurance_data_1['Health Indicator'].replace(to_replace = 'X8', value = '7',regex = True,inplace = True)\n",
    "Insurance_data_1['Health Indicator'].replace(to_replace = 'X9', value = '8',regex = True,inplace = True)"
   ]
  },
  {
   "cell_type": "code",
   "execution_count": 51,
   "metadata": {},
   "outputs": [
    {
     "data": {
      "text/plain": [
       "3.0    18851\n",
       "1.0    11747\n",
       "2.0     7155\n",
       "4.0     6080\n",
       "Name: Holding_Policy_Type, dtype: int64"
      ]
     },
     "execution_count": 51,
     "metadata": {},
     "output_type": "execute_result"
    }
   ],
   "source": [
    "Insurance_data_1['Holding_Policy_Type'].value_counts()"
   ]
  },
  {
   "cell_type": "code",
   "execution_count": 52,
   "metadata": {},
   "outputs": [
    {
     "data": {
      "text/plain": [
       "<matplotlib.axes._subplots.AxesSubplot at 0x2515a39eec8>"
      ]
     },
     "execution_count": 52,
     "metadata": {},
     "output_type": "execute_result"
    },
    {
     "data": {
      "image/png": "[encoded data removed]",
      "text/plain": [
       "<Figure size 432x288 with 1 Axes>"
      ]
     },
     "metadata": {
      "needs_background": "light"
     },
     "output_type": "display_data"
    }
   ],
   "source": [
    "sns.countplot('Holding_Policy_Type',data=Insurance_data_1,hue='Response')"
   ]
  },
  {
   "cell_type": "code",
   "execution_count": 53,
   "metadata": {},
   "outputs": [
    {
     "data": {
      "text/plain": [
       "(array([2039., 6180., 6765., 4863., 3947., 3493., 2127., 3110., 3495.,\n",
       "        3461., 3450., 3520., 3586., 2294., 3405., 3195., 3232., 2493.,\n",
       "        2462., 5570.]),\n",
       " array([18.  , 20.85, 23.7 , 26.55, 29.4 , 32.25, 35.1 , 37.95, 40.8 ,\n",
       "        43.65, 46.5 , 49.35, 52.2 , 55.05, 57.9 , 60.75, 63.6 , 66.45,\n",
       "        69.3 , 72.15, 75.  ]),\n",
       " <a list of 20 Patch objects>)"
      ]
     },
     "execution_count": 53,
     "metadata": {},
     "output_type": "execute_result"
    },
    {
     "data": {
      "image/png": "[encoded data removed]",
      "text/plain": [
       "<Figure size 432x288 with 1 Axes>"
      ]
     },
     "metadata": {
      "needs_background": "light"
     },
     "output_type": "display_data"
    }
   ],
   "source": [
    "plt.hist(Insurance_data_1['Upper_Age'], bins = 20)"
   ]
  },
  {
   "cell_type": "code",
   "execution_count": 54,
   "metadata": {},
   "outputs": [
    {
     "data": {
      "text/plain": [
       "(array([1197., 4451., 7607., 6644., 4853., 3997., 3480., 3100., 3172.,\n",
       "        3194., 3275., 3209., 3269., 3323., 3156., 2970., 3055., 2251.,\n",
       "        2158., 4326.]),\n",
       " array([16.  , 18.95, 21.9 , 24.85, 27.8 , 30.75, 33.7 , 36.65, 39.6 ,\n",
       "        42.55, 45.5 , 48.45, 51.4 , 54.35, 57.3 , 60.25, 63.2 , 66.15,\n",
       "        69.1 , 72.05, 75.  ]),\n",
       " <a list of 20 Patch objects>)"
      ]
     },
     "execution_count": 54,
     "metadata": {},
     "output_type": "execute_result"
    },
    {
     "data": {
      "image/png": "[encoded data removed]",
      "text/plain": [
       "<Figure size 432x288 with 1 Axes>"
      ]
     },
     "metadata": {
      "needs_background": "light"
     },
     "output_type": "display_data"
    }
   ],
   "source": [
    "plt.hist(Insurance_data_1['Lower_Age'], bins = 20)"
   ]
  },
  {
   "cell_type": "code",
   "execution_count": 55,
   "metadata": {},
   "outputs": [
    {
     "data": {
      "text/plain": [
       "18     174\n",
       "19     732\n",
       "20    1133\n",
       "21    1601\n",
       "22    2214\n",
       "23    2365\n",
       "24    2374\n",
       "25    2346\n",
       "26    2045\n",
       "27    1750\n",
       "28    1703\n",
       "29    1410\n",
       "30    1389\n",
       "31    1286\n",
       "32    1272\n",
       "33    1177\n",
       "34    1162\n",
       "35    1154\n",
       "36    1066\n",
       "37    1061\n",
       "38    1065\n",
       "39    1005\n",
       "40    1040\n",
       "41    1119\n",
       "42    1179\n",
       "43    1197\n",
       "44    1139\n",
       "45    1134\n",
       "46    1188\n",
       "47    1116\n",
       "48    1197\n",
       "49    1137\n",
       "50    1143\n",
       "51    1148\n",
       "52    1229\n",
       "53    1164\n",
       "54    1163\n",
       "55    1259\n",
       "56    1172\n",
       "57    1122\n",
       "58    1184\n",
       "59    1130\n",
       "60    1091\n",
       "61    1081\n",
       "62    1036\n",
       "63    1078\n",
       "64    1049\n",
       "65    1108\n",
       "66    1075\n",
       "67     845\n",
       "68     793\n",
       "69     855\n",
       "70     964\n",
       "71     790\n",
       "72     708\n",
       "73     685\n",
       "74     654\n",
       "75    4231\n",
       "Name: Upper_Age, dtype: int64"
      ]
     },
     "execution_count": 55,
     "metadata": {},
     "output_type": "execute_result"
    }
   ],
   "source": [
    "Insurance_data_1['Upper_Age'].value_counts().sort_index(ascending=True)"
   ]
  },
  {
   "cell_type": "code",
   "execution_count": 56,
   "metadata": {},
   "outputs": [],
   "source": [
    "Insurance_data_1['Mean_Age'] = (Insurance_data_1.Upper_Age + Insurance_data_1.Lower_Age)/2"
   ]
  },
  {
   "cell_type": "code",
   "execution_count": 57,
   "metadata": {},
   "outputs": [],
   "source": [
    "cols = ['Holding_Policy_Duration','Holding_Policy_Type','Health Indicator']\n",
    "for col in cols:\n",
    "    Insurance_data_1[col].fillna(Insurance_data_1[col].median(), inplace=True)"
   ]
  },
  {
   "cell_type": "code",
   "execution_count": 58,
   "metadata": {},
   "outputs": [
    {
     "data": {
      "text/plain": [
       "Accomodation_Type              0\n",
       "City_Code                      0\n",
       "Health Indicator               0\n",
       "Holding_Policy_Duration        0\n",
       "Holding_Policy_Type            0\n",
       "Is_Spouse                      0\n",
       "Lower_Age                      0\n",
       "Reco_Insurance_Type            0\n",
       "Reco_Policy_Cat                0\n",
       "Reco_Policy_Premium            0\n",
       "Region_Code                    0\n",
       "Response                   21805\n",
       "Upper_Age                      0\n",
       "Mean_Age                       0\n",
       "dtype: int64"
      ]
     },
     "execution_count": 58,
     "metadata": {},
     "output_type": "execute_result"
    }
   ],
   "source": [
    "Insurance_data_1.isnull().sum()"
   ]
  },
  {
   "cell_type": "code",
   "execution_count": 59,
   "metadata": {},
   "outputs": [],
   "source": [
    "Insurance_data_1 = Insurance_data_1.drop(['Upper_Age','Lower_Age'],axis=1)"
   ]
  },
  {
   "cell_type": "code",
   "execution_count": 60,
   "metadata": {},
   "outputs": [
    {
     "data": {
      "text/plain": [
       "Accomodation_Type              0\n",
       "City_Code                      0\n",
       "Health Indicator               0\n",
       "Holding_Policy_Duration        0\n",
       "Holding_Policy_Type            0\n",
       "Is_Spouse                      0\n",
       "Reco_Insurance_Type            0\n",
       "Reco_Policy_Cat                0\n",
       "Reco_Policy_Premium            0\n",
       "Region_Code                    0\n",
       "Response                   21805\n",
       "Mean_Age                       0\n",
       "dtype: int64"
      ]
     },
     "execution_count": 60,
     "metadata": {},
     "output_type": "execute_result"
    }
   ],
   "source": [
    "Insurance_data_1.isnull().sum()"
   ]
  },
  {
   "cell_type": "code",
   "execution_count": 61,
   "metadata": {},
   "outputs": [
    {
     "data": {
      "text/html": [
       "<div>\n",
       "<style scoped>\n",
       "    .dataframe tbody tr th:only-of-type {\n",
       "        vertical-align: middle;\n",
       "    }\n",
       "\n",
       "    .dataframe tbody tr th {\n",
       "        vertical-align: top;\n",
       "    }\n",
       "\n",
       "    .dataframe thead th {\n",
       "        text-align: right;\n",
       "    }\n",
       "</style>\n",
       "<table border=\"1\" class=\"dataframe\">\n",
       "  <thead>\n",
       "    <tr style=\"text-align: right;\">\n",
       "      <th></th>\n",
       "      <th>Accomodation_Type</th>\n",
       "      <th>City_Code</th>\n",
       "      <th>Health Indicator</th>\n",
       "      <th>Holding_Policy_Duration</th>\n",
       "      <th>Holding_Policy_Type</th>\n",
       "      <th>ID</th>\n",
       "      <th>Is_Spouse</th>\n",
       "      <th>Lower_Age</th>\n",
       "      <th>Reco_Insurance_Type</th>\n",
       "      <th>Reco_Policy_Cat</th>\n",
       "      <th>Reco_Policy_Premium</th>\n",
       "      <th>Region_Code</th>\n",
       "      <th>Response</th>\n",
       "      <th>Upper_Age</th>\n",
       "    </tr>\n",
       "  </thead>\n",
       "  <tbody>\n",
       "    <tr>\n",
       "      <td>0</td>\n",
       "      <td>Rented</td>\n",
       "      <td>C3</td>\n",
       "      <td>X1</td>\n",
       "      <td>14+</td>\n",
       "      <td>3.0</td>\n",
       "      <td>1</td>\n",
       "      <td>No</td>\n",
       "      <td>36</td>\n",
       "      <td>Individual</td>\n",
       "      <td>22</td>\n",
       "      <td>11628.0</td>\n",
       "      <td>3213</td>\n",
       "      <td>0.0</td>\n",
       "      <td>36</td>\n",
       "    </tr>\n",
       "    <tr>\n",
       "      <td>1</td>\n",
       "      <td>Owned</td>\n",
       "      <td>C5</td>\n",
       "      <td>X2</td>\n",
       "      <td>NaN</td>\n",
       "      <td>NaN</td>\n",
       "      <td>2</td>\n",
       "      <td>No</td>\n",
       "      <td>22</td>\n",
       "      <td>Joint</td>\n",
       "      <td>22</td>\n",
       "      <td>30510.0</td>\n",
       "      <td>1117</td>\n",
       "      <td>0.0</td>\n",
       "      <td>75</td>\n",
       "    </tr>\n",
       "    <tr>\n",
       "      <td>2</td>\n",
       "      <td>Owned</td>\n",
       "      <td>C5</td>\n",
       "      <td>NaN</td>\n",
       "      <td>1.0</td>\n",
       "      <td>1.0</td>\n",
       "      <td>3</td>\n",
       "      <td>No</td>\n",
       "      <td>32</td>\n",
       "      <td>Individual</td>\n",
       "      <td>19</td>\n",
       "      <td>7450.0</td>\n",
       "      <td>3732</td>\n",
       "      <td>1.0</td>\n",
       "      <td>32</td>\n",
       "    </tr>\n",
       "    <tr>\n",
       "      <td>3</td>\n",
       "      <td>Owned</td>\n",
       "      <td>C24</td>\n",
       "      <td>X1</td>\n",
       "      <td>14+</td>\n",
       "      <td>3.0</td>\n",
       "      <td>4</td>\n",
       "      <td>No</td>\n",
       "      <td>48</td>\n",
       "      <td>Joint</td>\n",
       "      <td>19</td>\n",
       "      <td>17780.0</td>\n",
       "      <td>4378</td>\n",
       "      <td>0.0</td>\n",
       "      <td>52</td>\n",
       "    </tr>\n",
       "    <tr>\n",
       "      <td>4</td>\n",
       "      <td>Rented</td>\n",
       "      <td>C8</td>\n",
       "      <td>X2</td>\n",
       "      <td>3.0</td>\n",
       "      <td>1.0</td>\n",
       "      <td>5</td>\n",
       "      <td>No</td>\n",
       "      <td>44</td>\n",
       "      <td>Individual</td>\n",
       "      <td>16</td>\n",
       "      <td>10404.0</td>\n",
       "      <td>2190</td>\n",
       "      <td>0.0</td>\n",
       "      <td>44</td>\n",
       "    </tr>\n",
       "  </tbody>\n",
       "</table>\n",
       "</div>"
      ],
      "text/plain": [
       "  Accomodation_Type City_Code Health Indicator Holding_Policy_Duration  \\\n",
       "0            Rented        C3               X1                     14+   \n",
       "1             Owned        C5               X2                     NaN   \n",
       "2             Owned        C5              NaN                     1.0   \n",
       "3             Owned       C24               X1                     14+   \n",
       "4            Rented        C8               X2                     3.0   \n",
       "\n",
       "   Holding_Policy_Type  ID Is_Spouse  Lower_Age Reco_Insurance_Type  \\\n",
       "0                  3.0   1        No         36          Individual   \n",
       "1                  NaN   2        No         22               Joint   \n",
       "2                  1.0   3        No         32          Individual   \n",
       "3                  3.0   4        No         48               Joint   \n",
       "4                  1.0   5        No         44          Individual   \n",
       "\n",
       "   Reco_Policy_Cat  Reco_Policy_Premium  Region_Code  Response  Upper_Age  \n",
       "0               22              11628.0         3213       0.0         36  \n",
       "1               22              30510.0         1117       0.0         75  \n",
       "2               19               7450.0         3732       1.0         32  \n",
       "3               19              17780.0         4378       0.0         52  \n",
       "4               16              10404.0         2190       0.0         44  "
      ]
     },
     "execution_count": 61,
     "metadata": {},
     "output_type": "execute_result"
    }
   ],
   "source": [
    "Insurance_data.head()"
   ]
  },
  {
   "cell_type": "code",
   "execution_count": 62,
   "metadata": {},
   "outputs": [],
   "source": [
    "Id = Insurance_data['ID']\n",
    "Insurance_data_1 = Insurance_data_1.join(Id)"
   ]
  },
  {
   "cell_type": "code",
   "execution_count": 63,
   "metadata": {},
   "outputs": [
    {
     "data": {
      "text/html": [
       "<div>\n",
       "<style scoped>\n",
       "    .dataframe tbody tr th:only-of-type {\n",
       "        vertical-align: middle;\n",
       "    }\n",
       "\n",
       "    .dataframe tbody tr th {\n",
       "        vertical-align: top;\n",
       "    }\n",
       "\n",
       "    .dataframe thead th {\n",
       "        text-align: right;\n",
       "    }\n",
       "</style>\n",
       "<table border=\"1\" class=\"dataframe\">\n",
       "  <thead>\n",
       "    <tr style=\"text-align: right;\">\n",
       "      <th></th>\n",
       "      <th>Accomodation_Type</th>\n",
       "      <th>City_Code</th>\n",
       "      <th>Health Indicator</th>\n",
       "      <th>Holding_Policy_Duration</th>\n",
       "      <th>Holding_Policy_Type</th>\n",
       "      <th>Is_Spouse</th>\n",
       "      <th>Reco_Insurance_Type</th>\n",
       "      <th>Reco_Policy_Cat</th>\n",
       "      <th>Reco_Policy_Premium</th>\n",
       "      <th>Region_Code</th>\n",
       "      <th>Response</th>\n",
       "      <th>Mean_Age</th>\n",
       "      <th>ID</th>\n",
       "    </tr>\n",
       "  </thead>\n",
       "  <tbody>\n",
       "    <tr>\n",
       "      <td>0</td>\n",
       "      <td>0</td>\n",
       "      <td>22</td>\n",
       "      <td>0</td>\n",
       "      <td>14.0</td>\n",
       "      <td>3.0</td>\n",
       "      <td>0</td>\n",
       "      <td>0</td>\n",
       "      <td>22</td>\n",
       "      <td>11628.0</td>\n",
       "      <td>3213</td>\n",
       "      <td>0.0</td>\n",
       "      <td>36.0</td>\n",
       "      <td>1</td>\n",
       "    </tr>\n",
       "    <tr>\n",
       "      <td>1</td>\n",
       "      <td>1</td>\n",
       "      <td>31</td>\n",
       "      <td>1</td>\n",
       "      <td>5.0</td>\n",
       "      <td>3.0</td>\n",
       "      <td>0</td>\n",
       "      <td>1</td>\n",
       "      <td>22</td>\n",
       "      <td>30510.0</td>\n",
       "      <td>1117</td>\n",
       "      <td>0.0</td>\n",
       "      <td>48.5</td>\n",
       "      <td>2</td>\n",
       "    </tr>\n",
       "    <tr>\n",
       "      <td>2</td>\n",
       "      <td>1</td>\n",
       "      <td>31</td>\n",
       "      <td>1</td>\n",
       "      <td>1.0</td>\n",
       "      <td>1.0</td>\n",
       "      <td>0</td>\n",
       "      <td>0</td>\n",
       "      <td>19</td>\n",
       "      <td>7450.0</td>\n",
       "      <td>3732</td>\n",
       "      <td>1.0</td>\n",
       "      <td>32.0</td>\n",
       "      <td>3</td>\n",
       "    </tr>\n",
       "    <tr>\n",
       "      <td>3</td>\n",
       "      <td>1</td>\n",
       "      <td>16</td>\n",
       "      <td>0</td>\n",
       "      <td>14.0</td>\n",
       "      <td>3.0</td>\n",
       "      <td>0</td>\n",
       "      <td>1</td>\n",
       "      <td>19</td>\n",
       "      <td>17780.0</td>\n",
       "      <td>4378</td>\n",
       "      <td>0.0</td>\n",
       "      <td>50.0</td>\n",
       "      <td>4</td>\n",
       "    </tr>\n",
       "    <tr>\n",
       "      <td>4</td>\n",
       "      <td>0</td>\n",
       "      <td>34</td>\n",
       "      <td>1</td>\n",
       "      <td>3.0</td>\n",
       "      <td>1.0</td>\n",
       "      <td>0</td>\n",
       "      <td>0</td>\n",
       "      <td>16</td>\n",
       "      <td>10404.0</td>\n",
       "      <td>2190</td>\n",
       "      <td>0.0</td>\n",
       "      <td>44.0</td>\n",
       "      <td>5</td>\n",
       "    </tr>\n",
       "  </tbody>\n",
       "</table>\n",
       "</div>"
      ],
      "text/plain": [
       "  Accomodation_Type  City_Code Health Indicator  Holding_Policy_Duration  \\\n",
       "0                 0         22                0                     14.0   \n",
       "1                 1         31                1                      5.0   \n",
       "2                 1         31                1                      1.0   \n",
       "3                 1         16                0                     14.0   \n",
       "4                 0         34                1                      3.0   \n",
       "\n",
       "   Holding_Policy_Type Is_Spouse Reco_Insurance_Type  Reco_Policy_Cat  \\\n",
       "0                  3.0         0                   0               22   \n",
       "1                  3.0         0                   1               22   \n",
       "2                  1.0         0                   0               19   \n",
       "3                  3.0         0                   1               19   \n",
       "4                  1.0         0                   0               16   \n",
       "\n",
       "   Reco_Policy_Premium  Region_Code  Response  Mean_Age  ID  \n",
       "0              11628.0         3213       0.0      36.0   1  \n",
       "1              30510.0         1117       0.0      48.5   2  \n",
       "2               7450.0         3732       1.0      32.0   3  \n",
       "3              17780.0         4378       0.0      50.0   4  \n",
       "4              10404.0         2190       0.0      44.0   5  "
      ]
     },
     "execution_count": 63,
     "metadata": {},
     "output_type": "execute_result"
    }
   ],
   "source": [
    "Insurance_data_1.head()"
   ]
  },
  {
   "cell_type": "code",
   "execution_count": 64,
   "metadata": {},
   "outputs": [
    {
     "data": {
      "text/plain": [
       "Accomodation_Type              0\n",
       "City_Code                      0\n",
       "Health Indicator               0\n",
       "Holding_Policy_Duration        0\n",
       "Holding_Policy_Type            0\n",
       "Is_Spouse                      0\n",
       "Reco_Insurance_Type            0\n",
       "Reco_Policy_Cat                0\n",
       "Reco_Policy_Premium            0\n",
       "Region_Code                    0\n",
       "Response                   21805\n",
       "Mean_Age                       0\n",
       "ID                             0\n",
       "dtype: int64"
      ]
     },
     "execution_count": 64,
     "metadata": {},
     "output_type": "execute_result"
    }
   ],
   "source": [
    "Insurance_data_1.isnull().sum()"
   ]
  },
  {
   "cell_type": "code",
   "execution_count": 65,
   "metadata": {},
   "outputs": [],
   "source": [
    "InsuranceData_train_cl=Insurance_data_1[Insurance_data_1['Response'].notnull()]\n",
    "InsuranceData_test_cl=Insurance_data_1[Insurance_data_1['Response'].isnull()]"
   ]
  },
  {
   "cell_type": "code",
   "execution_count": 66,
   "metadata": {},
   "outputs": [
    {
     "name": "stdout",
     "output_type": "stream",
     "text": [
      "<class 'pandas.core.frame.DataFrame'>\n",
      "Int64Index: 50882 entries, 0 to 50881\n",
      "Data columns (total 13 columns):\n",
      "Accomodation_Type          50882 non-null object\n",
      "City_Code                  50882 non-null int32\n",
      "Health Indicator           50882 non-null object\n",
      "Holding_Policy_Duration    50882 non-null float64\n",
      "Holding_Policy_Type        50882 non-null float64\n",
      "Is_Spouse                  50882 non-null object\n",
      "Reco_Insurance_Type        50882 non-null object\n",
      "Reco_Policy_Cat            50882 non-null int64\n",
      "Reco_Policy_Premium        50882 non-null float64\n",
      "Region_Code                50882 non-null int64\n",
      "Response                   50882 non-null float64\n",
      "Mean_Age                   50882 non-null float64\n",
      "ID                         50882 non-null int64\n",
      "dtypes: float64(5), int32(1), int64(3), object(4)\n",
      "memory usage: 5.2+ MB\n"
     ]
    }
   ],
   "source": [
    "InsuranceData_train_cl.info()"
   ]
  },
  {
   "cell_type": "code",
   "execution_count": 67,
   "metadata": {},
   "outputs": [
    {
     "name": "stdout",
     "output_type": "stream",
     "text": [
      "<class 'pandas.core.frame.DataFrame'>\n",
      "Int64Index: 21805 entries, 50882 to 72686\n",
      "Data columns (total 13 columns):\n",
      "Accomodation_Type          21805 non-null object\n",
      "City_Code                  21805 non-null int32\n",
      "Health Indicator           21805 non-null object\n",
      "Holding_Policy_Duration    21805 non-null float64\n",
      "Holding_Policy_Type        21805 non-null float64\n",
      "Is_Spouse                  21805 non-null object\n",
      "Reco_Insurance_Type        21805 non-null object\n",
      "Reco_Policy_Cat            21805 non-null int64\n",
      "Reco_Policy_Premium        21805 non-null float64\n",
      "Region_Code                21805 non-null int64\n",
      "Response                   0 non-null float64\n",
      "Mean_Age                   21805 non-null float64\n",
      "ID                         21805 non-null int64\n",
      "dtypes: float64(5), int32(1), int64(3), object(4)\n",
      "memory usage: 2.2+ MB\n"
     ]
    }
   ],
   "source": [
    "InsuranceData_test_cl.info()"
   ]
  },
  {
   "cell_type": "code",
   "execution_count": 68,
   "metadata": {},
   "outputs": [],
   "source": [
    "InsuranceData_test_cl.drop('Response',axis=1,inplace=True)"
   ]
  },
  {
   "cell_type": "code",
   "execution_count": 69,
   "metadata": {},
   "outputs": [
    {
     "name": "stdout",
     "output_type": "stream",
     "text": [
      "(50882, 13)\n",
      "(21805, 12)\n"
     ]
    }
   ],
   "source": [
    "print(InsuranceData_train_cl.shape)\n",
    "print(InsuranceData_test_cl.shape)"
   ]
  },
  {
   "cell_type": "code",
   "execution_count": 70,
   "metadata": {},
   "outputs": [],
   "source": [
    "from sklearn.model_selection import train_test_split\n",
    "from sklearn.preprocessing import StandardScaler"
   ]
  },
  {
   "cell_type": "code",
   "execution_count": 71,
   "metadata": {},
   "outputs": [],
   "source": [
    "X = InsuranceData_train_cl.drop('Response',axis = 1)\n",
    "Y = InsuranceData_train_cl['Response']"
   ]
  },
  {
   "cell_type": "code",
   "execution_count": 72,
   "metadata": {},
   "outputs": [],
   "source": [
    "sc = StandardScaler()\n",
    "X = sc.fit_transform(X)"
   ]
  },
  {
   "cell_type": "code",
   "execution_count": 73,
   "metadata": {},
   "outputs": [],
   "source": [
    "X = pd.DataFrame(X)"
   ]
  },
  {
   "cell_type": "code",
   "execution_count": 74,
   "metadata": {},
   "outputs": [
    {
     "data": {
      "text/html": [
       "<div>\n",
       "<style scoped>\n",
       "    .dataframe tbody tr th:only-of-type {\n",
       "        vertical-align: middle;\n",
       "    }\n",
       "\n",
       "    .dataframe tbody tr th {\n",
       "        vertical-align: top;\n",
       "    }\n",
       "\n",
       "    .dataframe thead th {\n",
       "        text-align: right;\n",
       "    }\n",
       "</style>\n",
       "<table border=\"1\" class=\"dataframe\">\n",
       "  <thead>\n",
       "    <tr style=\"text-align: right;\">\n",
       "      <th></th>\n",
       "      <th>0</th>\n",
       "      <th>1</th>\n",
       "      <th>2</th>\n",
       "      <th>3</th>\n",
       "      <th>4</th>\n",
       "      <th>5</th>\n",
       "      <th>6</th>\n",
       "      <th>7</th>\n",
       "      <th>8</th>\n",
       "      <th>9</th>\n",
       "      <th>10</th>\n",
       "      <th>11</th>\n",
       "    </tr>\n",
       "  </thead>\n",
       "  <tbody>\n",
       "    <tr>\n",
       "      <td>0</td>\n",
       "      <td>-1.104046</td>\n",
       "      <td>0.578319</td>\n",
       "      <td>-1.047414</td>\n",
       "      <td>2.377858</td>\n",
       "      <td>0.400939</td>\n",
       "      <td>-0.445367</td>\n",
       "      <td>-0.505203</td>\n",
       "      <td>1.085830</td>\n",
       "      <td>-0.387852</td>\n",
       "      <td>1.039425</td>\n",
       "      <td>-0.459465</td>\n",
       "      <td>-1.732017</td>\n",
       "    </tr>\n",
       "    <tr>\n",
       "      <td>1</td>\n",
       "      <td>0.905759</td>\n",
       "      <td>1.319223</td>\n",
       "      <td>-0.267228</td>\n",
       "      <td>-0.173242</td>\n",
       "      <td>0.400939</td>\n",
       "      <td>-0.445367</td>\n",
       "      <td>1.979403</td>\n",
       "      <td>1.085830</td>\n",
       "      <td>2.477394</td>\n",
       "      <td>-0.432415</td>\n",
       "      <td>0.277087</td>\n",
       "      <td>-1.731949</td>\n",
       "    </tr>\n",
       "    <tr>\n",
       "      <td>2</td>\n",
       "      <td>0.905759</td>\n",
       "      <td>1.319223</td>\n",
       "      <td>-0.267228</td>\n",
       "      <td>-1.307064</td>\n",
       "      <td>-1.974398</td>\n",
       "      <td>-0.445367</td>\n",
       "      <td>-0.505203</td>\n",
       "      <td>0.612688</td>\n",
       "      <td>-1.021842</td>\n",
       "      <td>1.403874</td>\n",
       "      <td>-0.695162</td>\n",
       "      <td>-1.731881</td>\n",
       "    </tr>\n",
       "    <tr>\n",
       "      <td>3</td>\n",
       "      <td>0.905759</td>\n",
       "      <td>0.084382</td>\n",
       "      <td>-1.047414</td>\n",
       "      <td>2.377858</td>\n",
       "      <td>0.400939</td>\n",
       "      <td>-0.445367</td>\n",
       "      <td>1.979403</td>\n",
       "      <td>0.612688</td>\n",
       "      <td>0.545682</td>\n",
       "      <td>1.857504</td>\n",
       "      <td>0.365473</td>\n",
       "      <td>-1.731813</td>\n",
       "    </tr>\n",
       "    <tr>\n",
       "      <td>4</td>\n",
       "      <td>-1.104046</td>\n",
       "      <td>1.566192</td>\n",
       "      <td>-0.267228</td>\n",
       "      <td>-0.740153</td>\n",
       "      <td>-1.974398</td>\n",
       "      <td>-0.445367</td>\n",
       "      <td>-0.505203</td>\n",
       "      <td>0.139547</td>\n",
       "      <td>-0.573588</td>\n",
       "      <td>0.321060</td>\n",
       "      <td>0.011928</td>\n",
       "      <td>-1.731744</td>\n",
       "    </tr>\n",
       "  </tbody>\n",
       "</table>\n",
       "</div>"
      ],
      "text/plain": [
       "          0         1         2         3         4         5         6  \\\n",
       "0 -1.104046  0.578319 -1.047414  2.377858  0.400939 -0.445367 -0.505203   \n",
       "1  0.905759  1.319223 -0.267228 -0.173242  0.400939 -0.445367  1.979403   \n",
       "2  0.905759  1.319223 -0.267228 -1.307064 -1.974398 -0.445367 -0.505203   \n",
       "3  0.905759  0.084382 -1.047414  2.377858  0.400939 -0.445367  1.979403   \n",
       "4 -1.104046  1.566192 -0.267228 -0.740153 -1.974398 -0.445367 -0.505203   \n",
       "\n",
       "          7         8         9        10        11  \n",
       "0  1.085830 -0.387852  1.039425 -0.459465 -1.732017  \n",
       "1  1.085830  2.477394 -0.432415  0.277087 -1.731949  \n",
       "2  0.612688 -1.021842  1.403874 -0.695162 -1.731881  \n",
       "3  0.612688  0.545682  1.857504  0.365473 -1.731813  \n",
       "4  0.139547 -0.573588  0.321060  0.011928 -1.731744  "
      ]
     },
     "execution_count": 74,
     "metadata": {},
     "output_type": "execute_result"
    }
   ],
   "source": [
    "X.head()"
   ]
  },
  {
   "cell_type": "code",
   "execution_count": 75,
   "metadata": {},
   "outputs": [],
   "source": [
    "X_train, X_test, y_train, y_test = train_test_split(X, Y , train_size = 0.8, random_state = 100)"
   ]
  },
  {
   "cell_type": "code",
   "execution_count": 76,
   "metadata": {},
   "outputs": [
    {
     "name": "stdout",
     "output_type": "stream",
     "text": [
      "75.38\n"
     ]
    }
   ],
   "source": [
    "from sklearn.linear_model import LogisticRegression\n",
    "from sklearn.metrics import accuracy_score\n",
    "lr = LogisticRegression(C = 1)\n",
    "lr.fit(X_train, y_train)\n",
    "y_pred = lr.predict(X_test)\n",
    "acc_lr = round(accuracy_score(y_pred, y_test) * 100, 2)\n",
    "print(acc_lr)"
   ]
  },
  {
   "cell_type": "code",
   "execution_count": 78,
   "metadata": {},
   "outputs": [],
   "source": [
    "import xgboost as xgb\n",
    "from xgboost import XGBRegressor,XGBModel"
   ]
  },
  {
   "cell_type": "code",
   "execution_count": 79,
   "metadata": {},
   "outputs": [],
   "source": [
    "from sklearn.metrics import confusion_matrix,accuracy_score,classification_report,average_precision_score,r2_score,recall_score,f1_score,roc_auc_score"
   ]
  },
  {
   "cell_type": "code",
   "execution_count": 80,
   "metadata": {},
   "outputs": [
    {
     "name": "stdout",
     "output_type": "stream",
     "text": [
      "[14:49:06] WARNING: C:/Users/Administrator/workspace/xgboost-win64_release_1.5.1/src/learner.cc:1115: Starting in XGBoost 1.3.0, the default evaluation metric used with the objective 'binary:logistic' was changed from 'error' to 'logloss'. Explicitly set eval_metric if you'd like to restore the old behavior.\n",
      "accuracy Score on train using XGBClassifier: 0.7942513204766\n"
     ]
    }
   ],
   "source": [
    "xgbc=xgb.XGBClassifier()\n",
    "xgbc.fit(X_train,y_train)\n",
    "xgbc_prediction = xgbc.predict(X_train)\n",
    "xgbc_score= accuracy_score(y_train,xgbc_prediction)\n",
    "print('accuracy Score on train using XGBClassifier:',xgbc_score)"
   ]
  },
  {
   "cell_type": "code",
   "execution_count": 86,
   "metadata": {},
   "outputs": [
    {
     "name": "stdout",
     "output_type": "stream",
     "text": [
      "Confusin metrix: [[30843   159]\n",
      " [ 8216  1487]]\n"
     ]
    }
   ],
   "source": [
    "Con_matrix_tr=confusion_matrix(y_train,xgbc_prediction)\n",
    "print('Confusin metrix:',Con_matrix_tr)"
   ]
  },
  {
   "cell_type": "code",
   "execution_count": 81,
   "metadata": {},
   "outputs": [
    {
     "data": {
      "text/plain": [
       "<matplotlib.axes._subplots.AxesSubplot at 0x2515c7f81c8>"
      ]
     },
     "execution_count": 81,
     "metadata": {},
     "output_type": "execute_result"
    },
    {
     "data": {
      "image/png": "[encoded data removed]",
      "text/plain": [
       "<Figure size 432x288 with 2 Axes>"
      ]
     },
     "metadata": {
      "needs_background": "light"
     },
     "output_type": "display_data"
    }
   ],
   "source": [
    "sns.heatmap(confusion_matrix(y_train,xgbc_prediction),annot=True,fmt=\"d\")"
   ]
  },
  {
   "cell_type": "code",
   "execution_count": 82,
   "metadata": {},
   "outputs": [
    {
     "name": "stdout",
     "output_type": "stream",
     "text": [
      "Classification Report:\n",
      "              precision    recall  f1-score   support\n",
      "\n",
      "         0.0       0.79      0.99      0.88     31002\n",
      "         1.0       0.90      0.15      0.26      9703\n",
      "\n",
      "    accuracy                           0.79     40705\n",
      "   macro avg       0.85      0.57      0.57     40705\n",
      "weighted avg       0.82      0.79      0.73     40705\n",
      "\n"
     ]
    }
   ],
   "source": [
    "print(\"Classification Report:\")\n",
    "print(classification_report(y_train,xgbc_prediction))"
   ]
  },
  {
   "cell_type": "code",
   "execution_count": 83,
   "metadata": {},
   "outputs": [],
   "source": [
    "average_precision_tr = average_precision_score(y_train,xgbc_prediction )\n",
    "Re_score_tr=recall_score(y_train, xgbc_prediction)\n",
    "F1_score_tr=f1_score(y_train, xgbc_prediction)"
   ]
  },
  {
   "cell_type": "code",
   "execution_count": 84,
   "metadata": {},
   "outputs": [],
   "source": [
    "xgbc_predict=xgbc.predict(X_test)\n",
    "accuracy_score_ts= accuracy_score(y_test,xgbc_predict)\n",
    "Con_matrix_ts=confusion_matrix(y_test,xgbc_predict)\n",
    "average_precision_ts = average_precision_score(y_test, xgbc_predict)\n",
    "F1_score_ts=f1_score(y_test, xgbc_predict)\n",
    "Re_score_ts=recall_score(y_test, xgbc_predict)"
   ]
  },
  {
   "cell_type": "code",
   "execution_count": 87,
   "metadata": {},
   "outputs": [],
   "source": [
    "data=pd.DataFrame({'Accuracy_score':[xgbc_score,accuracy_score_ts],'Confusion_matrix':[Con_matrix_tr,Con_matrix_ts],\n",
    "                  'Average_precision_score':[average_precision_tr,average_precision_ts],'recall_score':[Re_score_tr,Re_score_ts]\n",
    "                  ,'f1_score':[F1_score_tr,F1_score_ts]},\n",
    "                 index=['Train','Test'])"
   ]
  },
  {
   "cell_type": "code",
   "execution_count": 89,
   "metadata": {},
   "outputs": [
    {
     "data": {
      "text/html": [
       "<div>\n",
       "<style scoped>\n",
       "    .dataframe tbody tr th:only-of-type {\n",
       "        vertical-align: middle;\n",
       "    }\n",
       "\n",
       "    .dataframe tbody tr th {\n",
       "        vertical-align: top;\n",
       "    }\n",
       "\n",
       "    .dataframe thead th {\n",
       "        text-align: right;\n",
       "    }\n",
       "</style>\n",
       "<table border=\"1\" class=\"dataframe\">\n",
       "  <thead>\n",
       "    <tr style=\"text-align: right;\">\n",
       "      <th></th>\n",
       "      <th>Train</th>\n",
       "      <th>Test</th>\n",
       "    </tr>\n",
       "  </thead>\n",
       "  <tbody>\n",
       "    <tr>\n",
       "      <td>Accuracy_score</td>\n",
       "      <td>0.794251</td>\n",
       "      <td>0.750516</td>\n",
       "    </tr>\n",
       "    <tr>\n",
       "      <td>Confusion_matrix</td>\n",
       "      <td>[[30843, 159], [8216, 1487]]</td>\n",
       "      <td>[[7511, 160], [2379, 127]]</td>\n",
       "    </tr>\n",
       "    <tr>\n",
       "      <td>Average_precision_score</td>\n",
       "      <td>0.34029</td>\n",
       "      <td>0.256188</td>\n",
       "    </tr>\n",
       "    <tr>\n",
       "      <td>recall_score</td>\n",
       "      <td>0.153252</td>\n",
       "      <td>0.0506784</td>\n",
       "    </tr>\n",
       "    <tr>\n",
       "      <td>f1_score</td>\n",
       "      <td>0.26205</td>\n",
       "      <td>0.0909416</td>\n",
       "    </tr>\n",
       "  </tbody>\n",
       "</table>\n",
       "</div>"
      ],
      "text/plain": [
       "                                                Train  \\\n",
       "Accuracy_score                               0.794251   \n",
       "Confusion_matrix         [[30843, 159], [8216, 1487]]   \n",
       "Average_precision_score                       0.34029   \n",
       "recall_score                                 0.153252   \n",
       "f1_score                                      0.26205   \n",
       "\n",
       "                                               Test  \n",
       "Accuracy_score                             0.750516  \n",
       "Confusion_matrix         [[7511, 160], [2379, 127]]  \n",
       "Average_precision_score                    0.256188  \n",
       "recall_score                              0.0506784  \n",
       "f1_score                                  0.0909416  "
      ]
     },
     "execution_count": 89,
     "metadata": {},
     "output_type": "execute_result"
    }
   ],
   "source": [
    "np.transpose(data)"
   ]
  },
  {
   "cell_type": "code",
   "execution_count": null,
   "metadata": {},
   "outputs": [],
   "source": []
  }
 ],
 "metadata": {
  "kernelspec": {
   "display_name": "Python 3",
   "language": "python",
   "name": "python3"
  },
  "language_info": {
   "codemirror_mode": {
    "name": "ipython",
    "version": 3
   },
   "file_extension": ".py",
   "mimetype": "text/x-python",
   "name": "python",
   "nbconvert_exporter": "python",
   "pygments_lexer": "ipython3",
   "version": "3.7.4"
  }
 },
 "nbformat": 4,
 "nbformat_minor": 2
}
